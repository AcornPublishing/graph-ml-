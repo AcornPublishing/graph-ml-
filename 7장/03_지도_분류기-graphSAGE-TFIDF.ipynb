{
 "cells": [
  {
   "cell_type": "markdown",
   "metadata": {},
   "source": [
    "# 그래프 신경망 주제 분류기"
   ]
  },
  {
   "cell_type": "markdown",
   "metadata": {},
   "source": [
    "여기서는 그래프 신경망을 기반으로 하는 주제 분류 모델을 구축하는 데 중점을 둘 것이다.\n",
    "\n",
    "특히 다음 주제를 다룬다.\n",
    "\n",
    "* 그래프 신경망 모델에서 노드 특징으로 사용될 말뭉치의 TF-IDF 표현을 생성\n",
    "* 그래프 신경망 모델을 구축, 학습하고 문서 분류를 위한 최상의 임계값 식별\n",
    "* 진정한 귀납적 접근 방식에 따라 샘플 외 테스트에서 모델의 성능을 테스트\n",
    "\n",
    "**참고: 이 노트북은 01_자연어처리_그래프_생성(01_nlp_graph_creation) 노트북 이후에만 실행할 수 있다. 첫 번째 노트북에서 계산된 결과 중 일부가 여기에서 재사용되기 때문이다.**"
   ]
  },
  {
   "cell_type": "markdown",
   "metadata": {},
   "source": [
    "### 데이터셋 불러오기"
   ]
  },
  {
   "cell_type": "code",
   "execution_count": 1,
   "metadata": {},
   "outputs": [],
   "source": [
    "import nltk "
   ]
  },
  {
   "cell_type": "code",
   "execution_count": 2,
   "metadata": {},
   "outputs": [],
   "source": [
    "import numpy as np\n",
    "import pandas as pd\n",
    "import networkx as nx"
   ]
  },
  {
   "cell_type": "code",
   "execution_count": 3,
   "metadata": {},
   "outputs": [],
   "source": [
    "corpus = pd.read_pickle(\"corpus.p\")"
   ]
  },
  {
   "cell_type": "code",
   "execution_count": 4,
   "metadata": {},
   "outputs": [
    {
     "data": {
      "text/html": [
       "<div>\n",
       "<style scoped>\n",
       "    .dataframe tbody tr th:only-of-type {\n",
       "        vertical-align: middle;\n",
       "    }\n",
       "\n",
       "    .dataframe tbody tr th {\n",
       "        vertical-align: top;\n",
       "    }\n",
       "\n",
       "    .dataframe thead th {\n",
       "        text-align: right;\n",
       "    }\n",
       "</style>\n",
       "<table border=\"1\" class=\"dataframe\">\n",
       "  <thead>\n",
       "    <tr style=\"text-align: right;\">\n",
       "      <th></th>\n",
       "      <th>clean_text</th>\n",
       "      <th>label</th>\n",
       "      <th>language</th>\n",
       "      <th>parsed</th>\n",
       "    </tr>\n",
       "    <tr>\n",
       "      <th>id</th>\n",
       "      <th></th>\n",
       "      <th></th>\n",
       "      <th></th>\n",
       "      <th></th>\n",
       "    </tr>\n",
       "  </thead>\n",
       "  <tbody>\n",
       "    <tr>\n",
       "      <th>test/14826</th>\n",
       "      <td>ASIAN EXPORTERS FEAR DAMAGE FROM U.S.-JAPAN RI...</td>\n",
       "      <td>[trade]</td>\n",
       "      <td>en</td>\n",
       "      <td>(ASIAN, EXPORTERS, FEAR, DAMAGE, FROM, U.S.-JA...</td>\n",
       "    </tr>\n",
       "    <tr>\n",
       "      <th>test/14828</th>\n",
       "      <td>CHINA DAILY SAYS VERMIN EAT 7-12 PCT GRAIN STO...</td>\n",
       "      <td>[grain]</td>\n",
       "      <td>en</td>\n",
       "      <td>(CHINA, DAILY, SAYS, VERMIN, EAT, 7, -, 12, PC...</td>\n",
       "    </tr>\n",
       "    <tr>\n",
       "      <th>test/14829</th>\n",
       "      <td>JAPAN TO REVISE LONG-TERM ENERGY DEMAND DOWNWA...</td>\n",
       "      <td>[crude, nat-gas]</td>\n",
       "      <td>en</td>\n",
       "      <td>(JAPAN, TO, REVISE, LONG, -, TERM, ENERGY, DEM...</td>\n",
       "    </tr>\n",
       "    <tr>\n",
       "      <th>test/14832</th>\n",
       "      <td>THAI TRADE DEFICIT WIDENS IN FIRST QUARTER  Th...</td>\n",
       "      <td>[corn, grain, rice, rubber, sugar, tin, trade]</td>\n",
       "      <td>en</td>\n",
       "      <td>(THAI, TRADE, DEFICIT, WIDENS, IN, FIRST, QUAR...</td>\n",
       "    </tr>\n",
       "    <tr>\n",
       "      <th>test/14833</th>\n",
       "      <td>INDONESIA SEES CPO PRICE RISING SHARPLY  Indon...</td>\n",
       "      <td>[palm-oil, veg-oil]</td>\n",
       "      <td>en</td>\n",
       "      <td>(INDONESIA, SEES, CPO, PRICE, RISING, SHARPLY,...</td>\n",
       "    </tr>\n",
       "  </tbody>\n",
       "</table>\n",
       "</div>"
      ],
      "text/plain": [
       "                                                   clean_text  \\\n",
       "id                                                              \n",
       "test/14826  ASIAN EXPORTERS FEAR DAMAGE FROM U.S.-JAPAN RI...   \n",
       "test/14828  CHINA DAILY SAYS VERMIN EAT 7-12 PCT GRAIN STO...   \n",
       "test/14829  JAPAN TO REVISE LONG-TERM ENERGY DEMAND DOWNWA...   \n",
       "test/14832  THAI TRADE DEFICIT WIDENS IN FIRST QUARTER  Th...   \n",
       "test/14833  INDONESIA SEES CPO PRICE RISING SHARPLY  Indon...   \n",
       "\n",
       "                                                     label language  \\\n",
       "id                                                                    \n",
       "test/14826                                         [trade]       en   \n",
       "test/14828                                         [grain]       en   \n",
       "test/14829                                [crude, nat-gas]       en   \n",
       "test/14832  [corn, grain, rice, rubber, sugar, tin, trade]       en   \n",
       "test/14833                             [palm-oil, veg-oil]       en   \n",
       "\n",
       "                                                       parsed  \n",
       "id                                                             \n",
       "test/14826  (ASIAN, EXPORTERS, FEAR, DAMAGE, FROM, U.S.-JA...  \n",
       "test/14828  (CHINA, DAILY, SAYS, VERMIN, EAT, 7, -, 12, PC...  \n",
       "test/14829  (JAPAN, TO, REVISE, LONG, -, TERM, ENERGY, DEM...  \n",
       "test/14832  (THAI, TRADE, DEFICIT, WIDENS, IN, FIRST, QUAR...  \n",
       "test/14833  (INDONESIA, SEES, CPO, PRICE, RISING, SHARPLY,...  "
      ]
     },
     "execution_count": 4,
     "metadata": {},
     "output_type": "execute_result"
    }
   ],
   "source": [
    "corpus.head()"
   ]
  },
  {
   "cell_type": "code",
   "execution_count": 5,
   "metadata": {},
   "outputs": [],
   "source": [
    "from collections import Counter\n",
    "topics = Counter([label for document_labels in corpus[\"label\"] for label in document_labels]).most_common(10)"
   ]
  },
  {
   "cell_type": "code",
   "execution_count": 6,
   "metadata": {},
   "outputs": [
    {
     "data": {
      "text/plain": [
       "[('earn', 3964),\n",
       " ('acq', 2369),\n",
       " ('money-fx', 717),\n",
       " ('grain', 582),\n",
       " ('crude', 578),\n",
       " ('trade', 485),\n",
       " ('interest', 478),\n",
       " ('ship', 286),\n",
       " ('wheat', 283),\n",
       " ('corn', 237)]"
      ]
     },
     "execution_count": 6,
     "metadata": {},
     "output_type": "execute_result"
    }
   ],
   "source": [
    "topics"
   ]
  },
  {
   "cell_type": "code",
   "execution_count": 7,
   "metadata": {},
   "outputs": [],
   "source": [
    "topicsList = [topic[0] for topic in topics]\n",
    "topicsSet = set(topicsList)\n",
    "dataset = corpus[corpus[\"label\"].apply(lambda x: len(topicsSet.intersection(x))>0)]"
   ]
  },
  {
   "cell_type": "code",
   "execution_count": 8,
   "metadata": {},
   "outputs": [],
   "source": [
    "def get_labels(corpus, topicsList=topicsList):\n",
    "    return corpus[\"label\"].apply(\n",
    "        lambda labels: pd.Series({label: 1 for label in labels}).reindex(topicsList).fillna(0)\n",
    "    )[topicsList]"
   ]
  },
  {
   "cell_type": "code",
   "execution_count": 9,
   "metadata": {},
   "outputs": [],
   "source": [
    "labels = get_labels(dataset)"
   ]
  },
  {
   "cell_type": "code",
   "execution_count": 10,
   "metadata": {
    "scrolled": true
   },
   "outputs": [
    {
     "data": {
      "text/html": [
       "<div>\n",
       "<style scoped>\n",
       "    .dataframe tbody tr th:only-of-type {\n",
       "        vertical-align: middle;\n",
       "    }\n",
       "\n",
       "    .dataframe tbody tr th {\n",
       "        vertical-align: top;\n",
       "    }\n",
       "\n",
       "    .dataframe thead th {\n",
       "        text-align: right;\n",
       "    }\n",
       "</style>\n",
       "<table border=\"1\" class=\"dataframe\">\n",
       "  <thead>\n",
       "    <tr style=\"text-align: right;\">\n",
       "      <th></th>\n",
       "      <th>earn</th>\n",
       "      <th>acq</th>\n",
       "      <th>money-fx</th>\n",
       "      <th>grain</th>\n",
       "      <th>crude</th>\n",
       "      <th>trade</th>\n",
       "      <th>interest</th>\n",
       "      <th>ship</th>\n",
       "      <th>wheat</th>\n",
       "      <th>corn</th>\n",
       "    </tr>\n",
       "    <tr>\n",
       "      <th>id</th>\n",
       "      <th></th>\n",
       "      <th></th>\n",
       "      <th></th>\n",
       "      <th></th>\n",
       "      <th></th>\n",
       "      <th></th>\n",
       "      <th></th>\n",
       "      <th></th>\n",
       "      <th></th>\n",
       "      <th></th>\n",
       "    </tr>\n",
       "  </thead>\n",
       "  <tbody>\n",
       "    <tr>\n",
       "      <th>test/14826</th>\n",
       "      <td>0.0</td>\n",
       "      <td>0.0</td>\n",
       "      <td>0.0</td>\n",
       "      <td>0.0</td>\n",
       "      <td>0.0</td>\n",
       "      <td>1.0</td>\n",
       "      <td>0.0</td>\n",
       "      <td>0.0</td>\n",
       "      <td>0.0</td>\n",
       "      <td>0.0</td>\n",
       "    </tr>\n",
       "    <tr>\n",
       "      <th>test/14828</th>\n",
       "      <td>0.0</td>\n",
       "      <td>0.0</td>\n",
       "      <td>0.0</td>\n",
       "      <td>1.0</td>\n",
       "      <td>0.0</td>\n",
       "      <td>0.0</td>\n",
       "      <td>0.0</td>\n",
       "      <td>0.0</td>\n",
       "      <td>0.0</td>\n",
       "      <td>0.0</td>\n",
       "    </tr>\n",
       "    <tr>\n",
       "      <th>test/14829</th>\n",
       "      <td>0.0</td>\n",
       "      <td>0.0</td>\n",
       "      <td>0.0</td>\n",
       "      <td>0.0</td>\n",
       "      <td>1.0</td>\n",
       "      <td>0.0</td>\n",
       "      <td>0.0</td>\n",
       "      <td>0.0</td>\n",
       "      <td>0.0</td>\n",
       "      <td>0.0</td>\n",
       "    </tr>\n",
       "    <tr>\n",
       "      <th>test/14832</th>\n",
       "      <td>0.0</td>\n",
       "      <td>0.0</td>\n",
       "      <td>0.0</td>\n",
       "      <td>1.0</td>\n",
       "      <td>0.0</td>\n",
       "      <td>1.0</td>\n",
       "      <td>0.0</td>\n",
       "      <td>0.0</td>\n",
       "      <td>0.0</td>\n",
       "      <td>1.0</td>\n",
       "    </tr>\n",
       "    <tr>\n",
       "      <th>test/14839</th>\n",
       "      <td>0.0</td>\n",
       "      <td>0.0</td>\n",
       "      <td>0.0</td>\n",
       "      <td>0.0</td>\n",
       "      <td>0.0</td>\n",
       "      <td>0.0</td>\n",
       "      <td>0.0</td>\n",
       "      <td>1.0</td>\n",
       "      <td>0.0</td>\n",
       "      <td>0.0</td>\n",
       "    </tr>\n",
       "  </tbody>\n",
       "</table>\n",
       "</div>"
      ],
      "text/plain": [
       "            earn  acq  money-fx  grain  crude  trade  interest  ship  wheat  \\\n",
       "id                                                                            \n",
       "test/14826   0.0  0.0       0.0    0.0    0.0    1.0       0.0   0.0    0.0   \n",
       "test/14828   0.0  0.0       0.0    1.0    0.0    0.0       0.0   0.0    0.0   \n",
       "test/14829   0.0  0.0       0.0    0.0    1.0    0.0       0.0   0.0    0.0   \n",
       "test/14832   0.0  0.0       0.0    1.0    0.0    1.0       0.0   0.0    0.0   \n",
       "test/14839   0.0  0.0       0.0    0.0    0.0    0.0       0.0   1.0    0.0   \n",
       "\n",
       "            corn  \n",
       "id                \n",
       "test/14826   0.0  \n",
       "test/14828   0.0  \n",
       "test/14829   0.0  \n",
       "test/14832   1.0  \n",
       "test/14839   0.0  "
      ]
     },
     "execution_count": 10,
     "metadata": {},
     "output_type": "execute_result"
    }
   ],
   "source": [
    "labels.head()"
   ]
  },
  {
   "cell_type": "code",
   "execution_count": 11,
   "metadata": {},
   "outputs": [],
   "source": [
    "def get_features(corpus):\n",
    "    return corpus[\"parsed\"]"
   ]
  },
  {
   "cell_type": "code",
   "execution_count": 12,
   "metadata": {},
   "outputs": [],
   "source": [
    "def get_features_and_labels(corpus):\n",
    "    return get_features(corpus), get_labels(corpus)"
   ]
  },
  {
   "cell_type": "code",
   "execution_count": 13,
   "metadata": {},
   "outputs": [],
   "source": [
    "def train_test_split(corpus):\n",
    "    train_idx = [idx for idx in corpus.index if \"training/\" in idx]\n",
    "    test_idx = [idx for idx in corpus.index if \"test/\" in idx]\n",
    "    return corpus.loc[train_idx], corpus.loc[test_idx]"
   ]
  },
  {
   "cell_type": "code",
   "execution_count": 14,
   "metadata": {},
   "outputs": [],
   "source": [
    "train, test = train_test_split(dataset)"
   ]
  },
  {
   "cell_type": "code",
   "execution_count": 15,
   "metadata": {},
   "outputs": [],
   "source": [
    "def my_spacy_tokenizer(pos_filter=[\"NOUN\", \"VERB\", \"PROPN\"]):\n",
    "    def tokenizer(doc):\n",
    "        return [token.lemma_ for token in doc if (pos_filter is None) or (token.pos_ in pos_filter)] \n",
    "    return tokenizer"
   ]
  },
  {
   "cell_type": "code",
   "execution_count": 16,
   "metadata": {},
   "outputs": [],
   "source": [
    "from sklearn.feature_extraction.text import TfidfVectorizer"
   ]
  },
  {
   "cell_type": "code",
   "execution_count": 17,
   "metadata": {},
   "outputs": [],
   "source": [
    "cntVectorizer = TfidfVectorizer(\n",
    "    analyzer=my_spacy_tokenizer(),\n",
    "    max_df = 0.25, min_df = 2, max_features = 10000\n",
    ")"
   ]
  },
  {
   "cell_type": "code",
   "execution_count": 18,
   "metadata": {},
   "outputs": [],
   "source": [
    "trainFeatures, _ = get_features_and_labels(train)\n",
    "testFeatures, _ = get_features_and_labels(test)\n"
   ]
  },
  {
   "cell_type": "code",
   "execution_count": 19,
   "metadata": {},
   "outputs": [],
   "source": [
    "trainedTransformed = cntVectorizer.fit_transform(trainFeatures)\n",
    "testTransformed = cntVectorizer.transform(testFeatures)"
   ]
  },
  {
   "cell_type": "code",
   "execution_count": 20,
   "metadata": {},
   "outputs": [],
   "source": [
    "features = pd.concat([\n",
    "    pd.DataFrame.sparse.from_spmatrix(trainedTransformed, index=trainFeatures.index), \n",
    "    pd.DataFrame.sparse.from_spmatrix(testTransformed, index=testFeatures.index)\n",
    "])"
   ]
  },
  {
   "cell_type": "code",
   "execution_count": 21,
   "metadata": {},
   "outputs": [
    {
     "data": {
      "text/plain": [
       "(9034, 10000)"
      ]
     },
     "execution_count": 21,
     "metadata": {},
     "output_type": "execute_result"
    }
   ],
   "source": [
    "features.shape"
   ]
  },
  {
   "cell_type": "markdown",
   "metadata": {},
   "source": [
    "그래프 생성"
   ]
  },
  {
   "cell_type": "code",
   "execution_count": 22,
   "metadata": {},
   "outputs": [],
   "source": [
    "import stellargraph as sg\n",
    "from stellargraph import StellarGraph, IndexedArray\n",
    "from stellargraph.mapper import GraphSAGENodeGenerator\n",
    "from stellargraph.layer import GraphSAGE\n",
    "\n",
    "from tensorflow.keras import layers, optimizers, losses, metrics, Model"
   ]
  },
  {
   "cell_type": "code",
   "execution_count": 23,
   "metadata": {},
   "outputs": [],
   "source": [
    "edges = pd.read_pickle(\"bipartiteEdges.p\")"
   ]
  },
  {
   "cell_type": "code",
   "execution_count": 24,
   "metadata": {},
   "outputs": [],
   "source": [
    "entityTypes = {entity: ith for ith, entity in enumerate(edges[\"type\"].unique())}"
   ]
  },
  {
   "cell_type": "code",
   "execution_count": 25,
   "metadata": {},
   "outputs": [
    {
     "data": {
      "text/plain": [
       "{'keywords': 0, 'GPE': 1, 'ORG': 2, 'PERSON': 3}"
      ]
     },
     "execution_count": 25,
     "metadata": {},
     "output_type": "execute_result"
    }
   ],
   "source": [
    "entityTypes"
   ]
  },
  {
   "cell_type": "code",
   "execution_count": 26,
   "metadata": {},
   "outputs": [
    {
     "name": "stderr",
     "output_type": "stream",
     "text": [
      "C:\\Users\\K\\AppData\\Local\\Temp\\ipykernel_2228\\3397702276.py:1: FutureWarning: Passing a set as an indexer is deprecated and will raise in a future version. Use a list instead.\n",
      "  documentFeatures = features.loc[set(corpus.index).intersection(features.index)] #.assign(document=1, entity=0)\n"
     ]
    }
   ],
   "source": [
    "documentFeatures = features.loc[set(corpus.index).intersection(features.index)] #.assign(document=1, entity=0)"
   ]
  },
  {
   "cell_type": "code",
   "execution_count": 27,
   "metadata": {},
   "outputs": [
    {
     "data": {
      "text/html": [
       "<div>\n",
       "<style scoped>\n",
       "    .dataframe tbody tr th:only-of-type {\n",
       "        vertical-align: middle;\n",
       "    }\n",
       "\n",
       "    .dataframe tbody tr th {\n",
       "        vertical-align: top;\n",
       "    }\n",
       "\n",
       "    .dataframe thead th {\n",
       "        text-align: right;\n",
       "    }\n",
       "</style>\n",
       "<table border=\"1\" class=\"dataframe\">\n",
       "  <thead>\n",
       "    <tr style=\"text-align: right;\">\n",
       "      <th></th>\n",
       "      <th>0</th>\n",
       "      <th>1</th>\n",
       "      <th>2</th>\n",
       "      <th>3</th>\n",
       "      <th>4</th>\n",
       "      <th>5</th>\n",
       "      <th>6</th>\n",
       "      <th>7</th>\n",
       "      <th>8</th>\n",
       "      <th>9</th>\n",
       "      <th>...</th>\n",
       "      <th>9990</th>\n",
       "      <th>9991</th>\n",
       "      <th>9992</th>\n",
       "      <th>9993</th>\n",
       "      <th>9994</th>\n",
       "      <th>9995</th>\n",
       "      <th>9996</th>\n",
       "      <th>9997</th>\n",
       "      <th>9998</th>\n",
       "      <th>9999</th>\n",
       "    </tr>\n",
       "    <tr>\n",
       "      <th>id</th>\n",
       "      <th></th>\n",
       "      <th></th>\n",
       "      <th></th>\n",
       "      <th></th>\n",
       "      <th></th>\n",
       "      <th></th>\n",
       "      <th></th>\n",
       "      <th></th>\n",
       "      <th></th>\n",
       "      <th></th>\n",
       "      <th></th>\n",
       "      <th></th>\n",
       "      <th></th>\n",
       "      <th></th>\n",
       "      <th></th>\n",
       "      <th></th>\n",
       "      <th></th>\n",
       "      <th></th>\n",
       "      <th></th>\n",
       "      <th></th>\n",
       "      <th></th>\n",
       "    </tr>\n",
       "  </thead>\n",
       "  <tbody>\n",
       "    <tr>\n",
       "      <th>training/3890</th>\n",
       "      <td>0.0</td>\n",
       "      <td>0.0</td>\n",
       "      <td>0.0</td>\n",
       "      <td>0.0</td>\n",
       "      <td>0.0</td>\n",
       "      <td>0.0</td>\n",
       "      <td>0.0</td>\n",
       "      <td>0.0</td>\n",
       "      <td>0.0</td>\n",
       "      <td>0.0</td>\n",
       "      <td>...</td>\n",
       "      <td>0.0</td>\n",
       "      <td>0.0</td>\n",
       "      <td>0.0</td>\n",
       "      <td>0.0</td>\n",
       "      <td>0.0</td>\n",
       "      <td>0.0</td>\n",
       "      <td>0.0</td>\n",
       "      <td>0.0</td>\n",
       "      <td>0.0</td>\n",
       "      <td>0.0</td>\n",
       "    </tr>\n",
       "    <tr>\n",
       "      <th>training/11683</th>\n",
       "      <td>0.0</td>\n",
       "      <td>0.0</td>\n",
       "      <td>0.0</td>\n",
       "      <td>0.0</td>\n",
       "      <td>0.0</td>\n",
       "      <td>0.0</td>\n",
       "      <td>0.0</td>\n",
       "      <td>0.0</td>\n",
       "      <td>0.0</td>\n",
       "      <td>0.0</td>\n",
       "      <td>...</td>\n",
       "      <td>0.0</td>\n",
       "      <td>0.0</td>\n",
       "      <td>0.0</td>\n",
       "      <td>0.0</td>\n",
       "      <td>0.0</td>\n",
       "      <td>0.0</td>\n",
       "      <td>0.0</td>\n",
       "      <td>0.0</td>\n",
       "      <td>0.0</td>\n",
       "      <td>0.0</td>\n",
       "    </tr>\n",
       "    <tr>\n",
       "      <th>test/17822</th>\n",
       "      <td>0.0</td>\n",
       "      <td>0.0</td>\n",
       "      <td>0.0</td>\n",
       "      <td>0.0</td>\n",
       "      <td>0.0</td>\n",
       "      <td>0.0</td>\n",
       "      <td>0.0</td>\n",
       "      <td>0.0</td>\n",
       "      <td>0.0</td>\n",
       "      <td>0.0</td>\n",
       "      <td>...</td>\n",
       "      <td>0.0</td>\n",
       "      <td>0.0</td>\n",
       "      <td>0.0</td>\n",
       "      <td>0.0</td>\n",
       "      <td>0.0</td>\n",
       "      <td>0.0</td>\n",
       "      <td>0.0</td>\n",
       "      <td>0.0</td>\n",
       "      <td>0.0</td>\n",
       "      <td>0.0</td>\n",
       "    </tr>\n",
       "    <tr>\n",
       "      <th>training/146</th>\n",
       "      <td>0.0</td>\n",
       "      <td>0.0</td>\n",
       "      <td>0.0</td>\n",
       "      <td>0.0</td>\n",
       "      <td>0.0</td>\n",
       "      <td>0.0</td>\n",
       "      <td>0.0</td>\n",
       "      <td>0.0</td>\n",
       "      <td>0.0</td>\n",
       "      <td>0.0</td>\n",
       "      <td>...</td>\n",
       "      <td>0.0</td>\n",
       "      <td>0.0</td>\n",
       "      <td>0.0</td>\n",
       "      <td>0.0</td>\n",
       "      <td>0.0</td>\n",
       "      <td>0.0</td>\n",
       "      <td>0.0</td>\n",
       "      <td>0.0</td>\n",
       "      <td>0.0</td>\n",
       "      <td>0.0</td>\n",
       "    </tr>\n",
       "    <tr>\n",
       "      <th>training/10530</th>\n",
       "      <td>0.0</td>\n",
       "      <td>0.0</td>\n",
       "      <td>0.0</td>\n",
       "      <td>0.0</td>\n",
       "      <td>0.0</td>\n",
       "      <td>0.0</td>\n",
       "      <td>0.0</td>\n",
       "      <td>0.0</td>\n",
       "      <td>0.0</td>\n",
       "      <td>0.0</td>\n",
       "      <td>...</td>\n",
       "      <td>0.0</td>\n",
       "      <td>0.0</td>\n",
       "      <td>0.0</td>\n",
       "      <td>0.0</td>\n",
       "      <td>0.0</td>\n",
       "      <td>0.0</td>\n",
       "      <td>0.0</td>\n",
       "      <td>0.0</td>\n",
       "      <td>0.0</td>\n",
       "      <td>0.0</td>\n",
       "    </tr>\n",
       "  </tbody>\n",
       "</table>\n",
       "<p>5 rows × 10000 columns</p>\n",
       "</div>"
      ],
      "text/plain": [
       "                0     1     2     3     4     5     6     7     8     9     \\\n",
       "id                                                                           \n",
       "training/3890    0.0   0.0   0.0   0.0   0.0   0.0   0.0   0.0   0.0   0.0   \n",
       "training/11683   0.0   0.0   0.0   0.0   0.0   0.0   0.0   0.0   0.0   0.0   \n",
       "test/17822       0.0   0.0   0.0   0.0   0.0   0.0   0.0   0.0   0.0   0.0   \n",
       "training/146     0.0   0.0   0.0   0.0   0.0   0.0   0.0   0.0   0.0   0.0   \n",
       "training/10530   0.0   0.0   0.0   0.0   0.0   0.0   0.0   0.0   0.0   0.0   \n",
       "\n",
       "                ...  9990  9991  9992  9993  9994  9995  9996  9997  9998  \\\n",
       "id              ...                                                         \n",
       "training/3890   ...   0.0   0.0   0.0   0.0   0.0   0.0   0.0   0.0   0.0   \n",
       "training/11683  ...   0.0   0.0   0.0   0.0   0.0   0.0   0.0   0.0   0.0   \n",
       "test/17822      ...   0.0   0.0   0.0   0.0   0.0   0.0   0.0   0.0   0.0   \n",
       "training/146    ...   0.0   0.0   0.0   0.0   0.0   0.0   0.0   0.0   0.0   \n",
       "training/10530  ...   0.0   0.0   0.0   0.0   0.0   0.0   0.0   0.0   0.0   \n",
       "\n",
       "                9999  \n",
       "id                    \n",
       "training/3890    0.0  \n",
       "training/11683   0.0  \n",
       "test/17822       0.0  \n",
       "training/146     0.0  \n",
       "training/10530   0.0  \n",
       "\n",
       "[5 rows x 10000 columns]"
      ]
     },
     "execution_count": 27,
     "metadata": {},
     "output_type": "execute_result"
    }
   ],
   "source": [
    "documentFeatures.head()"
   ]
  },
  {
   "cell_type": "code",
   "execution_count": 28,
   "metadata": {},
   "outputs": [],
   "source": [
    "entities = edges.groupby([\"target\", \"type\"])[\"source\"].count().groupby(level=0).apply(\n",
    "    lambda s: s.droplevel(0).reindex(entityTypes.keys()).fillna(0)\n",
    ").unstack(level=1)"
   ]
  },
  {
   "cell_type": "code",
   "execution_count": 29,
   "metadata": {},
   "outputs": [],
   "source": [
    "entityFeatures = (entities.T / entities.sum(axis=1)).T.assign(document=0, entity=1)"
   ]
  },
  {
   "cell_type": "code",
   "execution_count": 30,
   "metadata": {},
   "outputs": [],
   "source": [
    "nodes = {\"entity\": entityFeatures, \n",
    "         \"document\": documentFeatures}"
   ]
  },
  {
   "cell_type": "code",
   "execution_count": 31,
   "metadata": {},
   "outputs": [],
   "source": [
    "stellarGraph = StellarGraph(nodes, \n",
    "                            edges[edges[\"source\"].isin(documentFeatures.index)], \n",
    "                            edge_type_column=\"type\")"
   ]
  },
  {
   "cell_type": "code",
   "execution_count": 32,
   "metadata": {},
   "outputs": [
    {
     "name": "stdout",
     "output_type": "stream",
     "text": [
      "StellarGraph: Undirected multigraph\n",
      " Nodes: 24026, Edges: 86837\n",
      "\n",
      " Node types:\n",
      "  entity: [14992]\n",
      "    Features: float32 vector, length 6\n",
      "    Edge types: entity-GPE->document, entity-ORG->document, entity-PERSON->document, entity-keywords->document\n",
      "  document: [9034]\n",
      "    Features: float32 vector, length 10000\n",
      "    Edge types: document-GPE->entity, document-ORG->entity, document-PERSON->entity, document-keywords->entity\n",
      "\n",
      " Edge types:\n",
      "    document-keywords->entity: [78826]\n",
      "        Weights: range=[0.0827011, 1], mean=0.258494, std=0.0898927\n",
      "        Features: none\n",
      "    document-ORG->entity: [4129]\n",
      "        Weights: range=[2, 22], mean=3.24122, std=2.30508\n",
      "        Features: none\n",
      "    document-GPE->entity: [2943]\n",
      "        Weights: range=[2, 25], mean=3.25926, std=2.07008\n",
      "        Features: none\n",
      "    document-PERSON->entity: [939]\n",
      "        Weights: range=[2, 14], mean=2.97444, std=1.65956\n",
      "        Features: none\n"
     ]
    }
   ],
   "source": [
    "print(stellarGraph.info())"
   ]
  },
  {
   "cell_type": "code",
   "execution_count": 33,
   "metadata": {},
   "outputs": [],
   "source": [
    "from stellargraph.data import EdgeSplitter"
   ]
  },
  {
   "cell_type": "code",
   "execution_count": 34,
   "metadata": {},
   "outputs": [],
   "source": [
    "splitter = EdgeSplitter(stellarGraph)"
   ]
  },
  {
   "cell_type": "code",
   "execution_count": 35,
   "metadata": {},
   "outputs": [
    {
     "name": "stdout",
     "output_type": "stream",
     "text": [
      "** Sampled 17367 positive and 17367 negative edges. **\n"
     ]
    }
   ],
   "source": [
    "graphTest, samplesTest, labelsTest = splitter.train_test_split(p=0.2)"
   ]
  },
  {
   "cell_type": "code",
   "execution_count": 36,
   "metadata": {},
   "outputs": [
    {
     "name": "stdout",
     "output_type": "stream",
     "text": [
      "StellarGraph: Undirected multigraph\n",
      " Nodes: 24026, Edges: 86837\n",
      "\n",
      " Node types:\n",
      "  entity: [14992]\n",
      "    Features: float32 vector, length 6\n",
      "    Edge types: entity-GPE->document, entity-ORG->document, entity-PERSON->document, entity-keywords->document\n",
      "  document: [9034]\n",
      "    Features: float32 vector, length 10000\n",
      "    Edge types: document-GPE->entity, document-ORG->entity, document-PERSON->entity, document-keywords->entity\n",
      "\n",
      " Edge types:\n",
      "    document-keywords->entity: [78826]\n",
      "        Weights: range=[0.0827011, 1], mean=0.258494, std=0.0898927\n",
      "        Features: none\n",
      "    document-ORG->entity: [4129]\n",
      "        Weights: range=[2, 22], mean=3.24122, std=2.30508\n",
      "        Features: none\n",
      "    document-GPE->entity: [2943]\n",
      "        Weights: range=[2, 25], mean=3.25926, std=2.07008\n",
      "        Features: none\n",
      "    document-PERSON->entity: [939]\n",
      "        Weights: range=[2, 14], mean=2.97444, std=1.65956\n",
      "        Features: none\n"
     ]
    }
   ],
   "source": [
    "print(stellarGraph.info())"
   ]
  },
  {
   "cell_type": "code",
   "execution_count": 37,
   "metadata": {},
   "outputs": [
    {
     "name": "stdout",
     "output_type": "stream",
     "text": [
      "StellarGraph: Undirected multigraph\n",
      " Nodes: 24026, Edges: 69470\n",
      "\n",
      " Node types:\n",
      "  entity: [14992]\n",
      "    Features: float32 vector, length 6\n",
      "    Edge types: entity-GPE->document, entity-ORG->document, entity-PERSON->document, entity-keywords->document\n",
      "  document: [9034]\n",
      "    Features: float32 vector, length 10000\n",
      "    Edge types: document-GPE->entity, document-ORG->entity, document-PERSON->entity, document-keywords->entity\n",
      "\n",
      " Edge types:\n",
      "    document-keywords->entity: [63034]\n",
      "        Weights: range=[0.0827011, 1], mean=0.258492, std=0.0898578\n",
      "        Features: none\n",
      "    document-ORG->entity: [3319]\n",
      "        Weights: range=[2, 21], mean=3.24646, std=2.31997\n",
      "        Features: none\n",
      "    document-GPE->entity: [2362]\n",
      "        Weights: range=[2, 19], mean=3.26164, std=2.05023\n",
      "        Features: none\n",
      "    document-PERSON->entity: [755]\n",
      "        Weights: range=[2, 14], mean=2.9457, std=1.68736\n",
      "        Features: none\n"
     ]
    }
   ],
   "source": [
    "print(graphTest.info())"
   ]
  },
  {
   "cell_type": "markdown",
   "metadata": {},
   "source": [
    "## 주제 분류 모델 생성"
   ]
  },
  {
   "cell_type": "markdown",
   "metadata": {},
   "source": [
    "학습, 검증, 테스트 셋으로 데이터 분리"
   ]
  },
  {
   "cell_type": "code",
   "execution_count": 38,
   "metadata": {},
   "outputs": [],
   "source": [
    "targets = labels.reindex(documentFeatures.index).fillna(0)\n",
    "#documentFeatures.drop([\"entity\", \"document\"], axis=1)"
   ]
  },
  {
   "cell_type": "code",
   "execution_count": 39,
   "metadata": {},
   "outputs": [
    {
     "data": {
      "text/html": [
       "<div>\n",
       "<style scoped>\n",
       "    .dataframe tbody tr th:only-of-type {\n",
       "        vertical-align: middle;\n",
       "    }\n",
       "\n",
       "    .dataframe tbody tr th {\n",
       "        vertical-align: top;\n",
       "    }\n",
       "\n",
       "    .dataframe thead th {\n",
       "        text-align: right;\n",
       "    }\n",
       "</style>\n",
       "<table border=\"1\" class=\"dataframe\">\n",
       "  <thead>\n",
       "    <tr style=\"text-align: right;\">\n",
       "      <th></th>\n",
       "      <th>earn</th>\n",
       "      <th>acq</th>\n",
       "      <th>money-fx</th>\n",
       "      <th>grain</th>\n",
       "      <th>crude</th>\n",
       "      <th>trade</th>\n",
       "      <th>interest</th>\n",
       "      <th>ship</th>\n",
       "      <th>wheat</th>\n",
       "      <th>corn</th>\n",
       "    </tr>\n",
       "    <tr>\n",
       "      <th>id</th>\n",
       "      <th></th>\n",
       "      <th></th>\n",
       "      <th></th>\n",
       "      <th></th>\n",
       "      <th></th>\n",
       "      <th></th>\n",
       "      <th></th>\n",
       "      <th></th>\n",
       "      <th></th>\n",
       "      <th></th>\n",
       "    </tr>\n",
       "  </thead>\n",
       "  <tbody>\n",
       "    <tr>\n",
       "      <th>training/3890</th>\n",
       "      <td>1.0</td>\n",
       "      <td>0.0</td>\n",
       "      <td>0.0</td>\n",
       "      <td>0.0</td>\n",
       "      <td>0.0</td>\n",
       "      <td>0.0</td>\n",
       "      <td>0.0</td>\n",
       "      <td>0.0</td>\n",
       "      <td>0.0</td>\n",
       "      <td>0.0</td>\n",
       "    </tr>\n",
       "    <tr>\n",
       "      <th>training/11683</th>\n",
       "      <td>1.0</td>\n",
       "      <td>0.0</td>\n",
       "      <td>0.0</td>\n",
       "      <td>0.0</td>\n",
       "      <td>0.0</td>\n",
       "      <td>0.0</td>\n",
       "      <td>0.0</td>\n",
       "      <td>0.0</td>\n",
       "      <td>0.0</td>\n",
       "      <td>0.0</td>\n",
       "    </tr>\n",
       "    <tr>\n",
       "      <th>test/17822</th>\n",
       "      <td>0.0</td>\n",
       "      <td>1.0</td>\n",
       "      <td>0.0</td>\n",
       "      <td>0.0</td>\n",
       "      <td>0.0</td>\n",
       "      <td>0.0</td>\n",
       "      <td>0.0</td>\n",
       "      <td>0.0</td>\n",
       "      <td>0.0</td>\n",
       "      <td>0.0</td>\n",
       "    </tr>\n",
       "    <tr>\n",
       "      <th>training/146</th>\n",
       "      <td>1.0</td>\n",
       "      <td>0.0</td>\n",
       "      <td>0.0</td>\n",
       "      <td>0.0</td>\n",
       "      <td>0.0</td>\n",
       "      <td>0.0</td>\n",
       "      <td>0.0</td>\n",
       "      <td>0.0</td>\n",
       "      <td>0.0</td>\n",
       "      <td>0.0</td>\n",
       "    </tr>\n",
       "    <tr>\n",
       "      <th>training/10530</th>\n",
       "      <td>0.0</td>\n",
       "      <td>0.0</td>\n",
       "      <td>0.0</td>\n",
       "      <td>0.0</td>\n",
       "      <td>0.0</td>\n",
       "      <td>1.0</td>\n",
       "      <td>0.0</td>\n",
       "      <td>0.0</td>\n",
       "      <td>0.0</td>\n",
       "      <td>0.0</td>\n",
       "    </tr>\n",
       "  </tbody>\n",
       "</table>\n",
       "</div>"
      ],
      "text/plain": [
       "                earn  acq  money-fx  grain  crude  trade  interest  ship  \\\n",
       "id                                                                         \n",
       "training/3890    1.0  0.0       0.0    0.0    0.0    0.0       0.0   0.0   \n",
       "training/11683   1.0  0.0       0.0    0.0    0.0    0.0       0.0   0.0   \n",
       "test/17822       0.0  1.0       0.0    0.0    0.0    0.0       0.0   0.0   \n",
       "training/146     1.0  0.0       0.0    0.0    0.0    0.0       0.0   0.0   \n",
       "training/10530   0.0  0.0       0.0    0.0    0.0    1.0       0.0   0.0   \n",
       "\n",
       "                wheat  corn  \n",
       "id                           \n",
       "training/3890     0.0   0.0  \n",
       "training/11683    0.0   0.0  \n",
       "test/17822        0.0   0.0  \n",
       "training/146      0.0   0.0  \n",
       "training/10530    0.0   0.0  "
      ]
     },
     "execution_count": 39,
     "metadata": {},
     "output_type": "execute_result"
    }
   ],
   "source": [
    "targets.head()"
   ]
  },
  {
   "cell_type": "code",
   "execution_count": 40,
   "metadata": {},
   "outputs": [],
   "source": [
    "def train_test_split(corpus):\n",
    "    graphIndex = [index for index in corpus.index]\n",
    "    \n",
    "    train_idx = [idx for idx in graphIndex if \"training/\" in idx]\n",
    "    test_idx = [idx for idx in graphIndex if \"test/\" in idx]\n",
    "    return corpus.loc[train_idx], corpus.loc[test_idx]"
   ]
  },
  {
   "cell_type": "code",
   "execution_count": 41,
   "metadata": {},
   "outputs": [],
   "source": [
    "sampled, hold_out = train_test_split(targets)"
   ]
  },
  {
   "cell_type": "code",
   "execution_count": 42,
   "metadata": {},
   "outputs": [],
   "source": [
    "allNeighbors = np.unique([n for node in sampled.index for n in stellarGraph.neighbors(node)])"
   ]
  },
  {
   "cell_type": "code",
   "execution_count": 43,
   "metadata": {},
   "outputs": [],
   "source": [
    "subgraph = stellarGraph.subgraph(set(sampled.index).union(allNeighbors))"
   ]
  },
  {
   "cell_type": "code",
   "execution_count": 44,
   "metadata": {},
   "outputs": [
    {
     "name": "stdout",
     "output_type": "stream",
     "text": [
      "StellarGraph: Undirected multigraph\n",
      " Nodes: 16953, Edges: 62460\n",
      "\n",
      " Node types:\n",
      "  entity: [10464]\n",
      "    Features: float32 vector, length 6\n",
      "    Edge types: entity-GPE->document, entity-ORG->document, entity-PERSON->document, entity-keywords->document\n",
      "  document: [6489]\n",
      "    Features: float32 vector, length 10000\n",
      "    Edge types: document-GPE->entity, document-ORG->entity, document-PERSON->entity, document-keywords->entity\n",
      "\n",
      " Edge types:\n",
      "    document-keywords->entity: [56653]\n",
      "        Weights: range=[0.0918226, 1], mean=0.257414, std=0.0888344\n",
      "        Features: none\n",
      "    document-ORG->entity: [3032]\n",
      "        Weights: range=[2, 22], mean=3.20877, std=2.21143\n",
      "        Features: none\n",
      "    document-GPE->entity: [2104]\n",
      "        Weights: range=[2, 25], mean=3.25808, std=2.08119\n",
      "        Features: none\n",
      "    document-PERSON->entity: [671]\n",
      "        Weights: range=[2, 14], mean=2.97615, std=1.66958\n",
      "        Features: none\n"
     ]
    }
   ],
   "source": [
    "print(subgraph.info())"
   ]
  },
  {
   "cell_type": "code",
   "execution_count": 45,
   "metadata": {},
   "outputs": [],
   "source": [
    "from sklearn.model_selection import train_test_split\n",
    "\n",
    "train, leftOut = train_test_split(\n",
    "    sampled,\n",
    "    train_size=0.1,\n",
    "    test_size=None,\n",
    "    random_state=42,\n",
    ")\n",
    "\n",
    "validation, test = train_test_split(\n",
    "    leftOut, train_size=0.2, test_size=None, random_state=100,\n",
    ")"
   ]
  },
  {
   "cell_type": "code",
   "execution_count": 46,
   "metadata": {},
   "outputs": [],
   "source": [
    "validation = validation[validation.sum(axis=1) > 0]\n",
    "test = test[test.sum(axis=1) > 0]"
   ]
  },
  {
   "cell_type": "code",
   "execution_count": 47,
   "metadata": {},
   "outputs": [
    {
     "name": "stdout",
     "output_type": "stream",
     "text": [
      "Validation: (1168, 10)\n",
      "Test: (4673, 10)\n"
     ]
    }
   ],
   "source": [
    "print(f\"Validation: {validation.shape}\")\n",
    "print(f\"Test: {test.shape}\")"
   ]
  },
  {
   "cell_type": "markdown",
   "metadata": {},
   "source": [
    "### 모델 학습"
   ]
  },
  {
   "cell_type": "markdown",
   "metadata": {},
   "source": [
    "모델 생성"
   ]
  },
  {
   "cell_type": "code",
   "execution_count": 48,
   "metadata": {},
   "outputs": [],
   "source": [
    "batch_size = 50\n",
    "num_samples = [10, 5]"
   ]
  },
  {
   "cell_type": "code",
   "execution_count": 49,
   "metadata": {},
   "outputs": [],
   "source": [
    "from stellargraph.mapper import HinSAGENodeGenerator\n",
    "\n",
    "generator = HinSAGENodeGenerator(subgraph, batch_size, num_samples, head_node_type=\"document\")"
   ]
  },
  {
   "cell_type": "code",
   "execution_count": 50,
   "metadata": {},
   "outputs": [],
   "source": [
    "from stellargraph.layer import HinSAGE\n",
    "\n",
    "graphsage_model = HinSAGE(\n",
    "    layer_sizes=[32, 32], generator=generator, bias=True, dropout=0.5,\n",
    ")"
   ]
  },
  {
   "cell_type": "code",
   "execution_count": 51,
   "metadata": {},
   "outputs": [],
   "source": [
    "x_inp, x_out = graphsage_model.in_out_tensors()\n",
    "prediction = layers.Dense(units=train.shape[1], activation=\"sigmoid\")(x_out)"
   ]
  },
  {
   "cell_type": "code",
   "execution_count": 52,
   "metadata": {},
   "outputs": [
    {
     "data": {
      "text/plain": [
       "TensorShape([None, 10])"
      ]
     },
     "execution_count": 52,
     "metadata": {},
     "output_type": "execute_result"
    }
   ],
   "source": [
    "prediction.shape"
   ]
  },
  {
   "cell_type": "code",
   "execution_count": 53,
   "metadata": {},
   "outputs": [],
   "source": [
    "model = Model(inputs=x_inp, outputs=prediction)\n",
    "model.compile(\n",
    "    optimizer=optimizers.Adam(lr=0.005),\n",
    "    loss=losses.binary_crossentropy,\n",
    "    metrics=[\"acc\"],\n",
    ")\n"
   ]
  },
  {
   "cell_type": "markdown",
   "metadata": {},
   "source": [
    "모델 학습 시작"
   ]
  },
  {
   "cell_type": "code",
   "execution_count": 54,
   "metadata": {},
   "outputs": [],
   "source": [
    "train_gen = generator.flow(train.index, train, shuffle=True)"
   ]
  },
  {
   "cell_type": "code",
   "execution_count": 55,
   "metadata": {},
   "outputs": [],
   "source": [
    "val_gen = generator.flow(validation.index, validation)"
   ]
  },
  {
   "cell_type": "code",
   "execution_count": 56,
   "metadata": {},
   "outputs": [
    {
     "name": "stdout",
     "output_type": "stream",
     "text": [
      "Epoch 1/50\n",
      "13/13 [==============================] - 55s 4s/step - loss: 0.5731 - acc: 0.1975 - val_loss: 0.4873 - val_acc: 0.4572\n",
      "Epoch 2/50\n",
      "13/13 [==============================] - 51s 4s/step - loss: 0.4526 - acc: 0.4861 - val_loss: 0.4070 - val_acc: 0.4255\n",
      "Epoch 3/50\n",
      "13/13 [==============================] - 52s 4s/step - loss: 0.3825 - acc: 0.4707 - val_loss: 0.3551 - val_acc: 0.4255\n",
      "Epoch 4/50\n",
      "13/13 [==============================] - 51s 4s/step - loss: 0.3364 - acc: 0.4722 - val_loss: 0.3207 - val_acc: 0.4255\n",
      "Epoch 5/50\n",
      "13/13 [==============================] - 51s 4s/step - loss: 0.3058 - acc: 0.4861 - val_loss: 0.2954 - val_acc: 0.4349\n",
      "Epoch 6/50\n",
      "13/13 [==============================] - 51s 4s/step - loss: 0.2809 - acc: 0.5586 - val_loss: 0.2738 - val_acc: 0.5017\n",
      "Epoch 7/50\n",
      "13/13 [==============================] - 53s 4s/step - loss: 0.2592 - acc: 0.6142 - val_loss: 0.2538 - val_acc: 0.5890\n",
      "Epoch 8/50\n",
      "13/13 [==============================] - 75s 6s/step - loss: 0.2384 - acc: 0.6806 - val_loss: 0.2378 - val_acc: 0.6310\n",
      "Epoch 9/50\n",
      "13/13 [==============================] - 62s 5s/step - loss: 0.2212 - acc: 0.7330 - val_loss: 0.2236 - val_acc: 0.6892\n",
      "Epoch 10/50\n",
      "13/13 [==============================] - 59s 5s/step - loss: 0.2065 - acc: 0.7623 - val_loss: 0.2132 - val_acc: 0.7132\n",
      "Epoch 11/50\n",
      "13/13 [==============================] - 60s 5s/step - loss: 0.1943 - acc: 0.7840 - val_loss: 0.2024 - val_acc: 0.7491\n",
      "Epoch 12/50\n",
      "13/13 [==============================] - 59s 5s/step - loss: 0.1848 - acc: 0.7809 - val_loss: 0.1932 - val_acc: 0.7568\n",
      "Epoch 13/50\n",
      "13/13 [==============================] - 55s 4s/step - loss: 0.1742 - acc: 0.8210 - val_loss: 0.1856 - val_acc: 0.7731\n",
      "Epoch 14/50\n",
      "13/13 [==============================] - 52s 4s/step - loss: 0.1649 - acc: 0.8333 - val_loss: 0.1794 - val_acc: 0.7765\n",
      "Epoch 15/50\n",
      "13/13 [==============================] - 52s 4s/step - loss: 0.1553 - acc: 0.8580 - val_loss: 0.1720 - val_acc: 0.8065\n",
      "Epoch 16/50\n",
      "13/13 [==============================] - 53s 4s/step - loss: 0.1486 - acc: 0.8657 - val_loss: 0.1663 - val_acc: 0.8168\n",
      "Epoch 17/50\n",
      "13/13 [==============================] - 53s 4s/step - loss: 0.1416 - acc: 0.8827 - val_loss: 0.1612 - val_acc: 0.8108\n",
      "Epoch 18/50\n",
      "13/13 [==============================] - 55s 4s/step - loss: 0.1375 - acc: 0.8966 - val_loss: 0.1589 - val_acc: 0.8005\n",
      "Epoch 19/50\n",
      "13/13 [==============================] - 56s 4s/step - loss: 0.1308 - acc: 0.8920 - val_loss: 0.1540 - val_acc: 0.8116\n",
      "Epoch 20/50\n",
      "13/13 [==============================] - 52s 4s/step - loss: 0.1254 - acc: 0.9059 - val_loss: 0.1504 - val_acc: 0.8185\n",
      "Epoch 21/50\n",
      "13/13 [==============================] - 52s 4s/step - loss: 0.1193 - acc: 0.9167 - val_loss: 0.1453 - val_acc: 0.8151\n",
      "Epoch 22/50\n",
      "13/13 [==============================] - 52s 4s/step - loss: 0.1165 - acc: 0.9074 - val_loss: 0.1455 - val_acc: 0.8074\n",
      "Epoch 23/50\n",
      "13/13 [==============================] - 52s 4s/step - loss: 0.1119 - acc: 0.9105 - val_loss: 0.1394 - val_acc: 0.8176\n",
      "Epoch 24/50\n",
      "13/13 [==============================] - 59s 5s/step - loss: 0.1083 - acc: 0.9136 - val_loss: 0.1391 - val_acc: 0.8099\n",
      "Epoch 25/50\n",
      "13/13 [==============================] - 58s 4s/step - loss: 0.1039 - acc: 0.9182 - val_loss: 0.1370 - val_acc: 0.8125\n",
      "Epoch 26/50\n",
      "13/13 [==============================] - 59s 5s/step - loss: 0.1033 - acc: 0.9167 - val_loss: 0.1340 - val_acc: 0.8168\n",
      "Epoch 27/50\n",
      "13/13 [==============================] - 60s 5s/step - loss: 0.0982 - acc: 0.9182 - val_loss: 0.1322 - val_acc: 0.8185\n",
      "Epoch 28/50\n",
      "13/13 [==============================] - 59s 5s/step - loss: 0.0948 - acc: 0.9290 - val_loss: 0.1281 - val_acc: 0.8271\n",
      "Epoch 29/50\n",
      "13/13 [==============================] - 60s 5s/step - loss: 0.0944 - acc: 0.9136 - val_loss: 0.1271 - val_acc: 0.8339\n",
      "Epoch 30/50\n",
      "13/13 [==============================] - 58s 4s/step - loss: 0.0891 - acc: 0.9321 - val_loss: 0.1257 - val_acc: 0.8271\n",
      "Epoch 31/50\n",
      "13/13 [==============================] - 57s 4s/step - loss: 0.0869 - acc: 0.9259 - val_loss: 0.1216 - val_acc: 0.8322\n",
      "Epoch 32/50\n",
      "13/13 [==============================] - 54s 4s/step - loss: 0.0847 - acc: 0.9429 - val_loss: 0.1220 - val_acc: 0.8356\n",
      "Epoch 33/50\n",
      "13/13 [==============================] - 53s 4s/step - loss: 0.0813 - acc: 0.9352 - val_loss: 0.1196 - val_acc: 0.8365\n",
      "Epoch 34/50\n",
      "13/13 [==============================] - 52s 4s/step - loss: 0.0801 - acc: 0.9244 - val_loss: 0.1171 - val_acc: 0.8433\n",
      "Epoch 35/50\n",
      "13/13 [==============================] - 52s 4s/step - loss: 0.0795 - acc: 0.9383 - val_loss: 0.1168 - val_acc: 0.8467\n",
      "Epoch 36/50\n",
      "13/13 [==============================] - 53s 4s/step - loss: 0.0768 - acc: 0.9398 - val_loss: 0.1179 - val_acc: 0.8356\n",
      "Epoch 37/50\n",
      "13/13 [==============================] - 58s 4s/step - loss: 0.0768 - acc: 0.9290 - val_loss: 0.1146 - val_acc: 0.8399\n",
      "Epoch 38/50\n",
      "13/13 [==============================] - 53s 4s/step - loss: 0.0744 - acc: 0.9321 - val_loss: 0.1151 - val_acc: 0.8450\n",
      "Epoch 39/50\n",
      "13/13 [==============================] - 53s 4s/step - loss: 0.0724 - acc: 0.9491 - val_loss: 0.1138 - val_acc: 0.8330\n",
      "Epoch 40/50\n",
      "13/13 [==============================] - 53s 4s/step - loss: 0.0703 - acc: 0.9522 - val_loss: 0.1132 - val_acc: 0.8450\n",
      "Epoch 41/50\n",
      "13/13 [==============================] - 53s 4s/step - loss: 0.0671 - acc: 0.9429 - val_loss: 0.1120 - val_acc: 0.8527\n",
      "Epoch 42/50\n",
      "13/13 [==============================] - 59s 5s/step - loss: 0.0660 - acc: 0.9522 - val_loss: 0.1102 - val_acc: 0.8425\n",
      "Epoch 43/50\n",
      "13/13 [==============================] - 60s 5s/step - loss: 0.0663 - acc: 0.9506 - val_loss: 0.1112 - val_acc: 0.8356\n",
      "Epoch 44/50\n",
      "13/13 [==============================] - 59s 5s/step - loss: 0.0651 - acc: 0.9537 - val_loss: 0.1109 - val_acc: 0.8510\n",
      "Epoch 45/50\n",
      "13/13 [==============================] - 59s 5s/step - loss: 0.0639 - acc: 0.9444 - val_loss: 0.1062 - val_acc: 0.8527\n",
      "Epoch 46/50\n",
      "13/13 [==============================] - 60s 5s/step - loss: 0.0620 - acc: 0.9583 - val_loss: 0.1076 - val_acc: 0.8476\n",
      "Epoch 47/50\n",
      "13/13 [==============================] - 60s 5s/step - loss: 0.0581 - acc: 0.9568 - val_loss: 0.1107 - val_acc: 0.8348\n",
      "Epoch 48/50\n",
      "13/13 [==============================] - 59s 5s/step - loss: 0.0623 - acc: 0.9522 - val_loss: 0.1063 - val_acc: 0.8519\n",
      "Epoch 49/50\n",
      "13/13 [==============================] - 60s 5s/step - loss: 0.0571 - acc: 0.9630 - val_loss: 0.1105 - val_acc: 0.8459\n",
      "Epoch 50/50\n",
      "13/13 [==============================] - 59s 5s/step - loss: 0.0568 - acc: 0.9599 - val_loss: 0.1054 - val_acc: 0.8476\n"
     ]
    }
   ],
   "source": [
    "history = model.fit(\n",
    "    train_gen, epochs=50, validation_data=val_gen, verbose=1, shuffle=False\n",
    ")"
   ]
  },
  {
   "cell_type": "code",
   "execution_count": 57,
   "metadata": {},
   "outputs": [
    {
     "data": {
      "image/png": "[encoded data removed]",
      "text/plain": [
       "<Figure size 504x576 with 2 Axes>"
      ]
     },
     "metadata": {
      "needs_background": "light"
     },
     "output_type": "display_data"
    }
   ],
   "source": [
    "sg.utils.plot_history(history)"
   ]
  },
  {
   "cell_type": "code",
   "execution_count": 58,
   "metadata": {},
   "outputs": [
    {
     "name": "stdout",
     "output_type": "stream",
     "text": [
      "Epoch 1/50\n",
      "13/13 [==============================] - 60s 5s/step - loss: 0.0562 - acc: 0.9491 - val_loss: 0.1047 - val_acc: 0.8485\n",
      "Epoch 2/50\n",
      "13/13 [==============================] - 61s 5s/step - loss: 0.0571 - acc: 0.9645 - val_loss: 0.1066 - val_acc: 0.8373\n",
      "Epoch 3/50\n",
      "13/13 [==============================] - 60s 5s/step - loss: 0.0533 - acc: 0.9645 - val_loss: 0.1034 - val_acc: 0.8416\n",
      "Epoch 4/50\n",
      "13/13 [==============================] - 60s 5s/step - loss: 0.0534 - acc: 0.9583 - val_loss: 0.1055 - val_acc: 0.8510\n",
      "Epoch 5/50\n",
      "13/13 [==============================] - 60s 5s/step - loss: 0.0530 - acc: 0.9630 - val_loss: 0.1087 - val_acc: 0.8322\n",
      "Epoch 6/50\n",
      "13/13 [==============================] - 60s 5s/step - loss: 0.0528 - acc: 0.9599 - val_loss: 0.1047 - val_acc: 0.8527\n",
      "Epoch 7/50\n",
      "13/13 [==============================] - 57s 4s/step - loss: 0.0503 - acc: 0.9707 - val_loss: 0.1031 - val_acc: 0.8433\n",
      "Epoch 8/50\n",
      "13/13 [==============================] - 57s 4s/step - loss: 0.0488 - acc: 0.9691 - val_loss: 0.1049 - val_acc: 0.8433\n",
      "Epoch 9/50\n",
      "13/13 [==============================] - 56s 4s/step - loss: 0.0508 - acc: 0.9645 - val_loss: 0.1010 - val_acc: 0.8476\n",
      "Epoch 10/50\n",
      "13/13 [==============================] - 56s 4s/step - loss: 0.0471 - acc: 0.9753 - val_loss: 0.1023 - val_acc: 0.8476\n",
      "Epoch 11/50\n",
      "13/13 [==============================] - 57s 4s/step - loss: 0.0476 - acc: 0.9707 - val_loss: 0.1036 - val_acc: 0.8425\n",
      "Epoch 12/50\n",
      "13/13 [==============================] - 57s 4s/step - loss: 0.0462 - acc: 0.9722 - val_loss: 0.1037 - val_acc: 0.8467\n",
      "Epoch 13/50\n",
      "13/13 [==============================] - 57s 4s/step - loss: 0.0458 - acc: 0.9676 - val_loss: 0.1042 - val_acc: 0.8425\n",
      "Epoch 14/50\n",
      "13/13 [==============================] - 58s 4s/step - loss: 0.0448 - acc: 0.9722 - val_loss: 0.1013 - val_acc: 0.8476\n",
      "Epoch 15/50\n",
      "13/13 [==============================] - 57s 4s/step - loss: 0.0437 - acc: 0.9784 - val_loss: 0.1015 - val_acc: 0.8442\n",
      "Epoch 16/50\n",
      "13/13 [==============================] - 57s 4s/step - loss: 0.0437 - acc: 0.9691 - val_loss: 0.0998 - val_acc: 0.8519\n",
      "Epoch 17/50\n",
      "13/13 [==============================] - 57s 4s/step - loss: 0.0443 - acc: 0.9660 - val_loss: 0.1044 - val_acc: 0.8390\n",
      "Epoch 18/50\n",
      "13/13 [==============================] - 57s 4s/step - loss: 0.0460 - acc: 0.9691 - val_loss: 0.1051 - val_acc: 0.8442\n",
      "Epoch 19/50\n",
      "13/13 [==============================] - 57s 4s/step - loss: 0.0416 - acc: 0.9799 - val_loss: 0.0951 - val_acc: 0.8604\n",
      "Epoch 20/50\n",
      "13/13 [==============================] - 57s 4s/step - loss: 0.0397 - acc: 0.9830 - val_loss: 0.1102 - val_acc: 0.8330\n",
      "Epoch 21/50\n",
      "13/13 [==============================] - 57s 4s/step - loss: 0.0402 - acc: 0.9799 - val_loss: 0.0992 - val_acc: 0.8467\n",
      "Epoch 22/50\n",
      "13/13 [==============================] - 57s 4s/step - loss: 0.0401 - acc: 0.9753 - val_loss: 0.1025 - val_acc: 0.8493\n",
      "Epoch 23/50\n",
      "13/13 [==============================] - 58s 4s/step - loss: 0.0386 - acc: 0.9830 - val_loss: 0.0975 - val_acc: 0.8570\n",
      "Epoch 24/50\n",
      "13/13 [==============================] - 57s 4s/step - loss: 0.0376 - acc: 0.9815 - val_loss: 0.1031 - val_acc: 0.8519\n",
      "Epoch 25/50\n",
      "13/13 [==============================] - 57s 4s/step - loss: 0.0360 - acc: 0.9769 - val_loss: 0.0973 - val_acc: 0.8587\n",
      "Epoch 26/50\n",
      "13/13 [==============================] - 57s 4s/step - loss: 0.0387 - acc: 0.9753 - val_loss: 0.1003 - val_acc: 0.8519\n",
      "Epoch 27/50\n",
      "13/13 [==============================] - 58s 4s/step - loss: 0.0390 - acc: 0.9799 - val_loss: 0.1003 - val_acc: 0.8596\n",
      "Epoch 28/50\n",
      "13/13 [==============================] - 58s 4s/step - loss: 0.0350 - acc: 0.9892 - val_loss: 0.1012 - val_acc: 0.8485\n",
      "Epoch 29/50\n",
      "13/13 [==============================] - 57s 4s/step - loss: 0.0375 - acc: 0.9815 - val_loss: 0.1002 - val_acc: 0.8553\n",
      "Epoch 30/50\n",
      "13/13 [==============================] - 57s 4s/step - loss: 0.0337 - acc: 0.9861 - val_loss: 0.0990 - val_acc: 0.8502\n",
      "Epoch 31/50\n",
      "13/13 [==============================] - 56s 4s/step - loss: 0.0324 - acc: 0.9815 - val_loss: 0.0978 - val_acc: 0.8579\n",
      "Epoch 32/50\n",
      "13/13 [==============================] - 56s 4s/step - loss: 0.0335 - acc: 0.9753 - val_loss: 0.1016 - val_acc: 0.8373\n",
      "Epoch 33/50\n",
      "13/13 [==============================] - 58s 4s/step - loss: 0.0317 - acc: 0.9861 - val_loss: 0.1000 - val_acc: 0.8493\n",
      "Epoch 34/50\n",
      "13/13 [==============================] - 56s 4s/step - loss: 0.0324 - acc: 0.9861 - val_loss: 0.1027 - val_acc: 0.8510\n",
      "Epoch 35/50\n",
      "13/13 [==============================] - 56s 4s/step - loss: 0.0308 - acc: 0.9846 - val_loss: 0.0989 - val_acc: 0.8536\n",
      "Epoch 36/50\n",
      "13/13 [==============================] - 56s 4s/step - loss: 0.0309 - acc: 0.9769 - val_loss: 0.0988 - val_acc: 0.8545\n",
      "Epoch 37/50\n",
      "13/13 [==============================] - 57s 4s/step - loss: 0.0319 - acc: 0.9784 - val_loss: 0.0990 - val_acc: 0.8527\n",
      "Epoch 38/50\n",
      "13/13 [==============================] - 57s 4s/step - loss: 0.0313 - acc: 0.9861 - val_loss: 0.0986 - val_acc: 0.8519\n",
      "Epoch 39/50\n",
      "13/13 [==============================] - 56s 4s/step - loss: 0.0335 - acc: 0.9846 - val_loss: 0.0988 - val_acc: 0.8510\n",
      "Epoch 40/50\n",
      "13/13 [==============================] - 57s 4s/step - loss: 0.0298 - acc: 0.9830 - val_loss: 0.1022 - val_acc: 0.8476\n",
      "Epoch 41/50\n",
      "13/13 [==============================] - 56s 4s/step - loss: 0.0300 - acc: 0.9738 - val_loss: 0.1005 - val_acc: 0.8545\n",
      "Epoch 42/50\n",
      "13/13 [==============================] - 57s 4s/step - loss: 0.0303 - acc: 0.9753 - val_loss: 0.1016 - val_acc: 0.8527\n",
      "Epoch 43/50\n",
      "13/13 [==============================] - 56s 4s/step - loss: 0.0308 - acc: 0.9769 - val_loss: 0.0988 - val_acc: 0.8485\n",
      "Epoch 44/50\n",
      "13/13 [==============================] - 56s 4s/step - loss: 0.0293 - acc: 0.9861 - val_loss: 0.1028 - val_acc: 0.8442\n",
      "Epoch 45/50\n",
      "13/13 [==============================] - 54s 4s/step - loss: 0.0287 - acc: 0.9769 - val_loss: 0.1021 - val_acc: 0.8476\n",
      "Epoch 46/50\n",
      "13/13 [==============================] - 54s 4s/step - loss: 0.0290 - acc: 0.9799 - val_loss: 0.1032 - val_acc: 0.8502\n",
      "Epoch 47/50\n",
      "13/13 [==============================] - 59s 5s/step - loss: 0.0304 - acc: 0.9784 - val_loss: 0.1005 - val_acc: 0.8502\n",
      "Epoch 48/50\n",
      "13/13 [==============================] - 58s 4s/step - loss: 0.0262 - acc: 0.9799 - val_loss: 0.0989 - val_acc: 0.8510\n",
      "Epoch 49/50\n",
      "13/13 [==============================] - 60s 5s/step - loss: 0.0263 - acc: 0.9877 - val_loss: 0.1036 - val_acc: 0.8390\n",
      "Epoch 50/50\n",
      "13/13 [==============================] - 60s 5s/step - loss: 0.0268 - acc: 0.9830 - val_loss: 0.1011 - val_acc: 0.8485\n"
     ]
    }
   ],
   "source": [
    "history = model.fit(\n",
    "    train_gen, epochs=50, validation_data=val_gen, verbose=1, shuffle=False\n",
    ")"
   ]
  },
  {
   "cell_type": "code",
   "execution_count": 59,
   "metadata": {},
   "outputs": [
    {
     "data": {
      "image/png": "[encoded data removed]",
      "text/plain": [
       "<Figure size 504x576 with 2 Axes>"
      ]
     },
     "metadata": {
      "needs_background": "light"
     },
     "output_type": "display_data"
    }
   ],
   "source": [
    "sg.utils.plot_history(history)"
   ]
  },
  {
   "cell_type": "markdown",
   "metadata": {},
   "source": [
    "### 임계값 식별"
   ]
  },
  {
   "cell_type": "code",
   "execution_count": 60,
   "metadata": {},
   "outputs": [],
   "source": [
    "test_gen = generator.flow(test.index, test)"
   ]
  },
  {
   "cell_type": "code",
   "execution_count": 61,
   "metadata": {},
   "outputs": [
    {
     "name": "stdout",
     "output_type": "stream",
     "text": [
      "94/94 [==============================] - 147s 2s/step - loss: 0.0955 - acc: 0.8671\n",
      "\n",
      "Test Set Metrics:\n",
      "\tloss: 0.0955\n",
      "\tacc: 0.8671\n"
     ]
    }
   ],
   "source": [
    "test_metrics = model.evaluate(test_gen)\n",
    "print(\"\\nTest Set Metrics:\")\n",
    "for name, val in zip(model.metrics_names, test_metrics):\n",
    "    print(\"\\t{}: {:0.4f}\".format(name, val))"
   ]
  },
  {
   "cell_type": "code",
   "execution_count": 62,
   "metadata": {},
   "outputs": [],
   "source": [
    "test_predictions = pd.DataFrame(model.predict(test_gen), index=test.index, columns=test.columns)"
   ]
  },
  {
   "cell_type": "code",
   "execution_count": 63,
   "metadata": {},
   "outputs": [],
   "source": [
    "test_results = pd.concat({\n",
    "    \"target\": test, \n",
    "    \"preds\": test_predictions\n",
    "}, axis=1)"
   ]
  },
  {
   "cell_type": "code",
   "execution_count": 64,
   "metadata": {},
   "outputs": [],
   "source": [
    "from sklearn.metrics import f1_score, classification_report"
   ]
  },
  {
   "cell_type": "code",
   "execution_count": 65,
   "metadata": {},
   "outputs": [
    {
     "data": {
      "text/plain": [
       "<matplotlib.axes._subplots.AxesSubplot at 0x1c1c408c2b0>"
      ]
     },
     "execution_count": 65,
     "metadata": {},
     "output_type": "execute_result"
    },
    {
     "data": {
      "image/png": "[encoded data removed]",
      "text/plain": [
       "<Figure size 432x288 with 1 Axes>"
      ]
     },
     "metadata": {
      "needs_background": "light"
     },
     "output_type": "display_data"
    }
   ],
   "source": [
    "f1s = {}\n",
    "\n",
    "for th in [0.01,0.05,0.1,0.2,0.3,0.4,0.5]:\n",
    "    f1s[th] = f1_score(test_results[\"target\"], 1.0*(test_results[\"preds\"]>th), average=\"macro\")\n",
    "    \n",
    "pd.Series(f1s).plot()"
   ]
  },
  {
   "cell_type": "markdown",
   "metadata": {},
   "source": [
    "보다시피 임계값이 약 0.2이면 최상의 성능을 얻을 수 있다. 따라서 보고서 생성을 위해 이 값을 사용한다."
   ]
  },
  {
   "cell_type": "code",
   "execution_count": 66,
   "metadata": {},
   "outputs": [
    {
     "name": "stdout",
     "output_type": "stream",
     "text": [
      "              precision    recall  f1-score   support\n",
      "\n",
      "           0       0.93      0.95      0.94      2075\n",
      "           1       0.84      0.92      0.88      1201\n",
      "           2       0.52      0.92      0.67       363\n",
      "           3       0.70      0.96      0.81       310\n",
      "           4       0.67      0.74      0.70       286\n",
      "           5       0.70      0.69      0.70       271\n",
      "           6       0.64      0.79      0.70       242\n",
      "           7       0.65      0.54      0.59       143\n",
      "           8       0.54      0.88      0.67       159\n",
      "           9       0.30      0.93      0.46       120\n",
      "\n",
      "   micro avg       0.75      0.89      0.82      5170\n",
      "   macro avg       0.65      0.83      0.71      5170\n",
      "weighted avg       0.79      0.89      0.83      5170\n",
      " samples avg       0.82      0.90      0.85      5170\n",
      "\n"
     ]
    },
    {
     "name": "stderr",
     "output_type": "stream",
     "text": [
      "C:\\Users\\K\\.conda\\envs\\Graph_ML_38\\lib\\site-packages\\sklearn\\metrics\\_classification.py:1245: UndefinedMetricWarning: Precision and F-score are ill-defined and being set to 0.0 in samples with no predicted labels. Use `zero_division` parameter to control this behavior.\n",
      "  _warn_prf(average, modifier, msg_start, len(result))\n"
     ]
    }
   ],
   "source": [
    "print(classification_report(test_results[\"target\"], 1.0*(test_results[\"preds\"]>0.2)))"
   ]
  },
  {
   "cell_type": "markdown",
   "metadata": {},
   "source": [
    "### 귀납적 예측"
   ]
  },
  {
   "cell_type": "markdown",
   "metadata": {},
   "source": [
    "이제 진정한 귀납적 예측을 수행하는 법을 알았으므로 전체 그래프를 사용할 것이며, 위에서 가장 높은 f1-score를 제공하는 임계값 0.2를 사용할 것입니다."
   ]
  },
  {
   "cell_type": "code",
   "execution_count": 67,
   "metadata": {},
   "outputs": [],
   "source": [
    "generator = HinSAGENodeGenerator(stellarGraph, batch_size, num_samples, head_node_type=\"document\")"
   ]
  },
  {
   "cell_type": "code",
   "execution_count": 68,
   "metadata": {},
   "outputs": [],
   "source": [
    "hold_out = hold_out[hold_out.sum(axis=1) > 0]"
   ]
  },
  {
   "cell_type": "code",
   "execution_count": 69,
   "metadata": {},
   "outputs": [],
   "source": [
    "hold_out_gen = generator.flow(hold_out.index, hold_out)"
   ]
  },
  {
   "cell_type": "code",
   "execution_count": 70,
   "metadata": {},
   "outputs": [],
   "source": [
    "hold_out_predictions = model.predict(hold_out_gen)"
   ]
  },
  {
   "cell_type": "code",
   "execution_count": 71,
   "metadata": {},
   "outputs": [],
   "source": [
    "preds = pd.DataFrame(1.0*(hold_out_predictions > 0.2), index=hold_out.index, columns=hold_out.columns)"
   ]
  },
  {
   "cell_type": "code",
   "execution_count": 72,
   "metadata": {},
   "outputs": [],
   "source": [
    "results = pd.concat({\n",
    "    \"target\": hold_out, \n",
    "    \"preds\": preds\n",
    "}, axis=1)"
   ]
  },
  {
   "cell_type": "code",
   "execution_count": 73,
   "metadata": {},
   "outputs": [
    {
     "name": "stdout",
     "output_type": "stream",
     "text": [
      "              precision    recall  f1-score   support\n",
      "\n",
      "           0       0.93      0.97      0.95      1087\n",
      "           1       0.92      0.93      0.93       719\n",
      "           2       0.60      0.98      0.74       179\n",
      "           3       0.73      0.95      0.82       149\n",
      "           4       0.72      0.90      0.80       189\n",
      "           5       0.74      0.71      0.72       117\n",
      "           6       0.65      0.73      0.68       131\n",
      "           7       0.76      0.76      0.76        89\n",
      "           8       0.57      0.97      0.72        71\n",
      "           9       0.34      0.96      0.50        56\n",
      "\n",
      "   micro avg       0.80      0.93      0.86      2787\n",
      "   macro avg       0.69      0.89      0.76      2787\n",
      "weighted avg       0.83      0.93      0.87      2787\n",
      " samples avg       0.86      0.93      0.88      2787\n",
      "\n"
     ]
    },
    {
     "name": "stderr",
     "output_type": "stream",
     "text": [
      "C:\\Users\\K\\.conda\\envs\\Graph_ML_38\\lib\\site-packages\\sklearn\\metrics\\_classification.py:1245: UndefinedMetricWarning: Precision and F-score are ill-defined and being set to 0.0 in samples with no predicted labels. Use `zero_division` parameter to control this behavior.\n",
      "  _warn_prf(average, modifier, msg_start, len(result))\n"
     ]
    }
   ],
   "source": [
    "print(classification_report(results[\"target\"], results[\"preds\"]))"
   ]
  }
 ],
 "metadata": {
  "kernelspec": {
   "display_name": "Graph_ML_38",
   "language": "python",
   "name": "graph_ml_38"
  },
  "language_info": {
   "codemirror_mode": {
    "name": "ipython",
    "version": 3
   },
   "file_extension": ".py",
   "mimetype": "text/x-python",
   "name": "python",
   "nbconvert_exporter": "python",
   "pygments_lexer": "ipython3",
   "version": "3.8.0"
  }
 },
 "nbformat": 4,
 "nbformat_minor": 4
}

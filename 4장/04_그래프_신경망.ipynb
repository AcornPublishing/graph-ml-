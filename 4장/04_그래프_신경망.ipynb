{
 "cells": [
  {
   "cell_type": "markdown",
   "metadata": {
    "id": "K8HAOWyDgPiH"
   },
   "source": [
    "# 지도학습을 위한 얕은 방법"
   ]
  },
  {
   "cell_type": "markdown",
   "metadata": {
    "id": "v6w1KA97gXao"
   },
   "source": [
    "아래의 코드로 그래프 기반 지도 머신 러닝을 해결하기 위한 매우 순진하지만 강력한 접근 방식을 탐구한다.\n",
    "여기서는 사람이 만든 특징 추출의 고전적인 기계 학습 접근 방식에 의존한다.\n",
    "\n",
    "1장에서 로컬 및 글로벌 그래프 속성을 그래프에서 추출하는 방법을 배웠다.\n",
    "이러한 속성들은 그래프 분류에 유용할 수 있는 중요한 정보를 제공한다."
   ]
  },
  {
   "cell_type": "code",
   "execution_count": 1,
   "metadata": {
    "id": "5k3sYIRJpMgb",
    "scrolled": true
   },
   "outputs": [
    {
     "name": "stdout",
     "output_type": "stream",
     "text": [
      "Requirement already satisfied: stellargraph in c:\\programdata\\anaconda3\\lib\\site-packages (1.2.1)\n",
      "Requirement already satisfied: scikit-learn>=0.20 in c:\\programdata\\anaconda3\\lib\\site-packages (from stellargraph) (0.22.2.post1)\n",
      "Requirement already satisfied: numpy>=1.14 in c:\\programdata\\anaconda3\\lib\\site-packages (from stellargraph) (1.18.1)\n",
      "Requirement already satisfied: pandas>=0.24 in c:\\programdata\\anaconda3\\lib\\site-packages (from stellargraph) (1.0.1)\n",
      "Requirement already satisfied: scipy>=1.1.0 in c:\\programdata\\anaconda3\\lib\\site-packages (from stellargraph) (1.4.1)\n",
      "Requirement already satisfied: networkx>=2.2 in c:\\programdata\\anaconda3\\lib\\site-packages (from stellargraph) (2.5)\n",
      "Requirement already satisfied: matplotlib>=2.2 in c:\\programdata\\anaconda3\\lib\\site-packages (from stellargraph) (3.2.2)\n",
      "Requirement already satisfied: tensorflow>=2.1.0 in c:\\programdata\\anaconda3\\lib\\site-packages (from stellargraph) (2.1.0)\n",
      "Requirement already satisfied: gensim>=3.4.0 in c:\\programdata\\anaconda3\\lib\\site-packages (from stellargraph) (4.1.2)\n",
      "Requirement already satisfied: joblib>=0.11 in c:\\programdata\\anaconda3\\lib\\site-packages (from scikit-learn>=0.20->stellargraph) (0.14.1)\n",
      "Requirement already satisfied: pytz>=2017.2 in c:\\programdata\\anaconda3\\lib\\site-packages (from pandas>=0.24->stellargraph) (2019.3)\n",
      "Requirement already satisfied: python-dateutil>=2.6.1 in c:\\programdata\\anaconda3\\lib\\site-packages (from pandas>=0.24->stellargraph) (2.8.1)\n",
      "Requirement already satisfied: decorator>=4.3.0 in c:\\programdata\\anaconda3\\lib\\site-packages (from networkx>=2.2->stellargraph) (4.4.1)\n",
      "Requirement already satisfied: pyparsing!=2.0.4,!=2.1.2,!=2.1.6,>=2.0.1 in c:\\programdata\\anaconda3\\lib\\site-packages (from matplotlib>=2.2->stellargraph) (2.4.6)\n",
      "Requirement already satisfied: cycler>=0.10 in c:\\programdata\\anaconda3\\lib\\site-packages (from matplotlib>=2.2->stellargraph) (0.10.0)\n",
      "Requirement already satisfied: kiwisolver>=1.0.1 in c:\\programdata\\anaconda3\\lib\\site-packages (from matplotlib>=2.2->stellargraph) (1.1.0)\n",
      "Requirement already satisfied: gast==0.2.2 in c:\\programdata\\anaconda3\\lib\\site-packages (from tensorflow>=2.1.0->stellargraph) (0.2.2)\n",
      "Requirement already satisfied: opt-einsum>=2.3.2 in c:\\programdata\\anaconda3\\lib\\site-packages (from tensorflow>=2.1.0->stellargraph) (3.2.0)\n",
      "Requirement already satisfied: six>=1.12.0 in c:\\programdata\\anaconda3\\lib\\site-packages (from tensorflow>=2.1.0->stellargraph) (1.13.0)\n",
      "Requirement already satisfied: protobuf>=3.8.0 in c:\\programdata\\anaconda3\\lib\\site-packages (from tensorflow>=2.1.0->stellargraph) (3.11.3)\n",
      "Requirement already satisfied: google-pasta>=0.1.6 in c:\\programdata\\anaconda3\\lib\\site-packages (from tensorflow>=2.1.0->stellargraph) (0.1.8)\n",
      "Requirement already satisfied: wrapt>=1.11.1 in c:\\programdata\\anaconda3\\lib\\site-packages (from tensorflow>=2.1.0->stellargraph) (1.12.1)\n",
      "Requirement already satisfied: absl-py>=0.7.0 in c:\\programdata\\anaconda3\\lib\\site-packages (from tensorflow>=2.1.0->stellargraph) (0.9.0)\n",
      "Requirement already satisfied: astor>=0.6.0 in c:\\programdata\\anaconda3\\lib\\site-packages (from tensorflow>=2.1.0->stellargraph) (0.8.1)\n",
      "Requirement already satisfied: keras-applications>=1.0.8 in c:\\programdata\\anaconda3\\lib\\site-packages (from tensorflow>=2.1.0->stellargraph) (1.0.8)\n",
      "Requirement already satisfied: grpcio>=1.8.6 in c:\\programdata\\anaconda3\\lib\\site-packages (from tensorflow>=2.1.0->stellargraph) (1.27.2)\n",
      "Requirement already satisfied: tensorboard<2.2.0,>=2.1.0 in c:\\programdata\\anaconda3\\lib\\site-packages (from tensorflow>=2.1.0->stellargraph) (2.1.1)\n",
      "Requirement already satisfied: wheel>=0.26; python_version >= \"3\" in c:\\programdata\\anaconda3\\lib\\site-packages (from tensorflow>=2.1.0->stellargraph) (0.33.6)\n",
      "Requirement already satisfied: termcolor>=1.1.0 in c:\\programdata\\anaconda3\\lib\\site-packages (from tensorflow>=2.1.0->stellargraph) (1.1.0)\n",
      "Requirement already satisfied: tensorflow-estimator<2.2.0,>=2.1.0rc0 in c:\\programdata\\anaconda3\\lib\\site-packages (from tensorflow>=2.1.0->stellargraph) (2.1.0)\n",
      "Requirement already satisfied: keras-preprocessing>=1.1.0 in c:\\programdata\\anaconda3\\lib\\site-packages (from tensorflow>=2.1.0->stellargraph) (1.1.0)\n",
      "Requirement already satisfied: smart-open>=1.8.1 in c:\\programdata\\anaconda3\\lib\\site-packages (from gensim>=3.4.0->stellargraph) (6.0.0)\n",
      "Requirement already satisfied: Cython==0.29.23 in c:\\programdata\\anaconda3\\lib\\site-packages (from gensim>=3.4.0->stellargraph) (0.29.23)\n",
      "Requirement already satisfied: setuptools in c:\\programdata\\anaconda3\\lib\\site-packages (from kiwisolver>=1.0.1->matplotlib>=2.2->stellargraph) (44.0.0.post20200106)\n",
      "Requirement already satisfied: h5py in c:\\programdata\\anaconda3\\lib\\site-packages (from keras-applications>=1.0.8->tensorflow>=2.1.0->stellargraph) (2.10.0)\n",
      "Requirement already satisfied: markdown>=2.6.8 in c:\\programdata\\anaconda3\\lib\\site-packages (from tensorboard<2.2.0,>=2.1.0->tensorflow>=2.1.0->stellargraph) (3.2.1)\n",
      "Requirement already satisfied: google-auth-oauthlib<0.5,>=0.4.1 in c:\\programdata\\anaconda3\\lib\\site-packages (from tensorboard<2.2.0,>=2.1.0->tensorflow>=2.1.0->stellargraph) (0.4.1)\n",
      "Requirement already satisfied: requests<3,>=2.21.0 in c:\\programdata\\anaconda3\\lib\\site-packages (from tensorboard<2.2.0,>=2.1.0->tensorflow>=2.1.0->stellargraph) (2.22.0)\n",
      "Requirement already satisfied: google-auth<2,>=1.6.3 in c:\\programdata\\anaconda3\\lib\\site-packages (from tensorboard<2.2.0,>=2.1.0->tensorflow>=2.1.0->stellargraph) (1.11.2)\n",
      "Requirement already satisfied: werkzeug>=0.11.15 in c:\\programdata\\anaconda3\\lib\\site-packages (from tensorboard<2.2.0,>=2.1.0->tensorflow>=2.1.0->stellargraph) (1.0.0)\n",
      "Requirement already satisfied: requests-oauthlib>=0.7.0 in c:\\programdata\\anaconda3\\lib\\site-packages (from google-auth-oauthlib<0.5,>=0.4.1->tensorboard<2.2.0,>=2.1.0->tensorflow>=2.1.0->stellargraph) (1.3.0)\n",
      "Requirement already satisfied: chardet<3.1.0,>=3.0.2 in c:\\programdata\\anaconda3\\lib\\site-packages (from requests<3,>=2.21.0->tensorboard<2.2.0,>=2.1.0->tensorflow>=2.1.0->stellargraph) (3.0.4)\n",
      "Requirement already satisfied: urllib3!=1.25.0,!=1.25.1,<1.26,>=1.21.1 in c:\\programdata\\anaconda3\\lib\\site-packages (from requests<3,>=2.21.0->tensorboard<2.2.0,>=2.1.0->tensorflow>=2.1.0->stellargraph) (1.25.7)\n",
      "Requirement already satisfied: idna<2.9,>=2.5 in c:\\programdata\\anaconda3\\lib\\site-packages (from requests<3,>=2.21.0->tensorboard<2.2.0,>=2.1.0->tensorflow>=2.1.0->stellargraph) (2.8)\n",
      "Requirement already satisfied: certifi>=2017.4.17 in c:\\programdata\\anaconda3\\lib\\site-packages (from requests<3,>=2.21.0->tensorboard<2.2.0,>=2.1.0->tensorflow>=2.1.0->stellargraph) (2019.11.28)\n",
      "Requirement already satisfied: rsa<4.1,>=3.1.4 in c:\\programdata\\anaconda3\\lib\\site-packages (from google-auth<2,>=1.6.3->tensorboard<2.2.0,>=2.1.0->tensorflow>=2.1.0->stellargraph) (4.0)\n",
      "Requirement already satisfied: cachetools<5.0,>=2.0.0 in c:\\programdata\\anaconda3\\lib\\site-packages (from google-auth<2,>=1.6.3->tensorboard<2.2.0,>=2.1.0->tensorflow>=2.1.0->stellargraph) (4.0.0)\n",
      "Requirement already satisfied: pyasn1-modules>=0.2.1 in c:\\programdata\\anaconda3\\lib\\site-packages (from google-auth<2,>=1.6.3->tensorboard<2.2.0,>=2.1.0->tensorflow>=2.1.0->stellargraph) (0.2.8)\n",
      "Requirement already satisfied: oauthlib>=3.0.0 in c:\\programdata\\anaconda3\\lib\\site-packages (from requests-oauthlib>=0.7.0->google-auth-oauthlib<0.5,>=0.4.1->tensorboard<2.2.0,>=2.1.0->tensorflow>=2.1.0->stellargraph) (3.1.0)\n",
      "Requirement already satisfied: pyasn1>=0.1.3 in c:\\programdata\\anaconda3\\lib\\site-packages (from rsa<4.1,>=3.1.4->google-auth<2,>=1.6.3->tensorboard<2.2.0,>=2.1.0->tensorflow>=2.1.0->stellargraph) (0.4.8)\n"
     ]
    }
   ],
   "source": [
    "!pip install stellargraph"
   ]
  },
  {
   "cell_type": "markdown",
   "metadata": {
    "id": "yWL_AuChPcYS"
   },
   "source": [
    "이번 데모에서는 StellarGraph에 있는 PROTEINS 데이터셋을 사용한다."
   ]
  },
  {
   "cell_type": "code",
   "execution_count": 2,
   "metadata": {
    "colab": {
     "base_uri": "https://localhost:8080/",
     "height": 51
    },
    "id": "gS5B47T2gWll",
    "outputId": "4020adc2-75b7-4aa5-b480-24d2693a8a74"
   },
   "outputs": [
    {
     "data": {
      "text/html": [
       "Each graph represents a protein and graph labels represent whether they are are enzymes or non-enzymes. The dataset includes 1113 graphs with 39 nodes and 73 edges on average for each graph. Graph nodes have 4 attributes (including a one-hot encoding of their label), and each graph is labelled as belonging to 1 of 2 classes."
      ],
      "text/plain": [
       "<IPython.core.display.HTML object>"
      ]
     },
     "metadata": {},
     "output_type": "display_data"
    }
   ],
   "source": [
    "from stellargraph import datasets\n",
    "from IPython.display import display, HTML\n",
    "\n",
    "dataset = datasets.PROTEINS()\n",
    "display(HTML(dataset.description))\n",
    "graphs, graph_labels = dataset.load()"
   ]
  },
  {
   "cell_type": "markdown",
   "metadata": {},
   "source": [
    "각 그래프는 단백질을 나타내고 그래프 라벨은 효소인지 비효소인지를 나타낸다. 이 데이터셋에는 각 그래프에 대해 평균적으로 39개의 노드와 73개의 간선이 있는 1113개의 그래프가 있다. 그래프 노드에는 4개의 속성(라벨의 원-핫 인코딩 포함)이 있으며 각 그래프는 2개의 클래스 중 1개에 속하는 것으로 라벨이 지정된다."
   ]
  },
  {
   "cell_type": "markdown",
   "metadata": {
    "id": "YDlUMUUFLrjh"
   },
   "source": [
    "그래프 측정 지표를 계산하기 위한 한 가지 방법은 각 그래프의 인접 행렬 표현을 찾는 것이다."
   ]
  },
  {
   "cell_type": "code",
   "execution_count": 3,
   "metadata": {
    "id": "qsOw9zFwrxDe"
   },
   "outputs": [],
   "source": [
    "# StellarGraph 포맷을 numpy 인접 행렬 형태로 변환\n",
    "adjs = [graph.to_adjacency_matrix().A for graph in graphs]\n",
    "# 라벨을 Pandas.Series에서 Numpy 행렬로 변환\n",
    "labels = graph_labels.to_numpy(dtype=int)"
   ]
  },
  {
   "cell_type": "code",
   "execution_count": 4,
   "metadata": {
    "id": "6S5M5mL2t-ik"
   },
   "outputs": [],
   "source": [
    "import numpy as np\n",
    "import networkx as nx\n",
    "\n",
    "metrics = []\n",
    "for adj in adjs:\n",
    "    G = nx.from_numpy_matrix(adj)\n",
    "    # 기본 속성\n",
    "    num_edges = G.number_of_edges()\n",
    "    # 클러스터링 측정\n",
    "    cc = nx.average_clustering(G)\n",
    "    # 효율성 측정\n",
    "    eff = nx.global_efficiency(G)\n",
    "\n",
    "    metrics.append([num_edges, cc, eff])\n",
    "\n"
   ]
  },
  {
   "cell_type": "markdown",
   "metadata": {
    "id": "1_a5CiZKL4vW"
   },
   "source": [
    "이제 scikit-learn 유틸리티를 활용하여 훈련과 테스트셋을 생성할 수 있다. 실험에서는 데이터셋의 70%를 훈련 셋으로 사용하고 나머지를 테스트셋으로 사용한다."
   ]
  },
  {
   "cell_type": "code",
   "execution_count": 5,
   "metadata": {
    "id": "NRrNPqOxu7eY"
   },
   "outputs": [],
   "source": [
    "from sklearn.model_selection import train_test_split\n",
    "X_train, X_test, y_train, y_test = train_test_split(metrics, labels, test_size=0.3, random_state=42)"
   ]
  },
  {
   "cell_type": "markdown",
   "metadata": {
    "id": "TMIF1weiMO0F"
   },
   "source": [
    "많은 기계 학습 워크플로에서 일반적으로 수행되는 것처럼 평균 및 단위 표준 편차가 0이 되도록 특징을 전처리한다."
   ]
  },
  {
   "cell_type": "code",
   "execution_count": 6,
   "metadata": {
    "id": "9qUjNhPru6ni"
   },
   "outputs": [],
   "source": [
    "from sklearn.preprocessing import StandardScaler\n",
    "\n",
    "scaler = StandardScaler()\n",
    "scaler.fit(X_train)\n",
    "\n",
    "X_train_scaled = scaler.transform(X_train)\n",
    "X_test_scaled = scaler.transform(X_test)"
   ]
  },
  {
   "cell_type": "markdown",
   "metadata": {
    "id": "QqaZzejRMdmu"
   },
   "source": [
    "이제 학습을 시작한다. 예제에는 서포트 벡터 머신(SVM)을 선택했다."
   ]
  },
  {
   "cell_type": "code",
   "execution_count": 7,
   "metadata": {
    "colab": {
     "base_uri": "https://localhost:8080/"
    },
    "id": "L3A6_fh0OV9x",
    "outputId": "6297d8fe-3cc9-435b-e8fe-b50425aaee24"
   },
   "outputs": [
    {
     "name": "stdout",
     "output_type": "stream",
     "text": [
      "Accuracy 0.7455089820359282\n",
      "Precision 0.7709251101321586\n",
      "Recall 0.8413461538461539\n",
      "F1-score 0.8045977011494253\n"
     ]
    }
   ],
   "source": [
    "from sklearn import svm\n",
    "from sklearn.metrics import accuracy_score, precision_score, recall_score, f1_score\n",
    "\n",
    "clf = svm.SVC()\n",
    "clf.fit(X_train_scaled, y_train)\n",
    "\n",
    "y_pred = clf.predict(X_test_scaled)\n",
    "\n",
    "print('Accuracy', accuracy_score(y_test,y_pred))\n",
    "print('Precision', precision_score(y_test,y_pred))\n",
    "print('Recall', recall_score(y_test,y_pred))\n",
    "print('F1-score', f1_score(y_test,y_pred))"
   ]
  },
  {
   "cell_type": "markdown",
   "metadata": {
    "id": "NBVKcDWHeGoR"
   },
   "source": [
    "# 그래프 합성곱 신경망을 이용한 지도 그래프 표현 학습"
   ]
  },
  {
   "cell_type": "markdown",
   "metadata": {
    "id": "lb6FvAQ3eUNs"
   },
   "source": [
    "아래의 코드는 딥 그래프 합성곱 신경망을 인코더로 사용하여 지도 그래프 표현 학습을 수행한다.\n",
    "\n",
    "모델은 그래프 합성곱 레이어를 쌓아서 만들 수 있다."
   ]
  },
  {
   "cell_type": "markdown",
   "metadata": {
    "id": "VHU1UGiHfw1e"
   },
   "source": [
    "이번 데모에서는 StellarGraph에 있는 PROTEINS 데이터셋을 사용한다."
   ]
  },
  {
   "cell_type": "code",
   "execution_count": 8,
   "metadata": {
    "colab": {
     "base_uri": "https://localhost:8080/",
     "height": 51
    },
    "id": "_8SDtHy1PfNx",
    "outputId": "aa1f8875-ab8d-42b6-eadc-8084f1796cc1"
   },
   "outputs": [
    {
     "data": {
      "text/html": [
       "Each graph represents a protein and graph labels represent whether they are are enzymes or non-enzymes. The dataset includes 1113 graphs with 39 nodes and 73 edges on average for each graph. Graph nodes have 4 attributes (including a one-hot encoding of their label), and each graph is labelled as belonging to 1 of 2 classes."
      ],
      "text/plain": [
       "<IPython.core.display.HTML object>"
      ]
     },
     "metadata": {},
     "output_type": "display_data"
    }
   ],
   "source": [
    "import pandas as pd\n",
    "from stellargraph import datasets\n",
    "from IPython.display import display, HTML\n",
    "\n",
    "dataset = datasets.PROTEINS()\n",
    "display(HTML(dataset.description))\n",
    "graphs, graph_labels = dataset.load()\n",
    "\n",
    "labels = graph_labels.to_numpy(dtype=int)\n",
    "\n",
    "# necessary for converting default string labels to int\n",
    "graph_labels = pd.get_dummies(graph_labels, drop_first=True)"
   ]
  },
  {
   "cell_type": "markdown",
   "metadata": {},
   "source": [
    "각 그래프는 단백질을 나타내고 그래프 라벨은 효소인지 비효소인지를 나타낸다. 이 데이터셋에는 각 그래프에 대해 평균적으로 39개의 노드와 73개의 간선이 있는 1113개의 그래프가 있다. 그래프 노드에는 4개의 속성(라벨의 원-핫 인코딩 포함)이 있으며 각 그래프는 2개의 클래스 중 1개에 속하는 것으로 라벨이 지정된다."
   ]
  },
  {
   "cell_type": "markdown",
   "metadata": {
    "id": "_uEUzYBIM6cK"
   },
   "source": [
    "모델 구축에 사용하는 StellarGraph는 tf.Keras를 백엔드로 사용한다. 그리고 모델에 학습 데이터를 공급하기 위한 데이터 생성기가 필요하다. 지도 그래프 분류를 위해 StellarGraph의 PaddedGraphGenerator 클래스 인스턴스를 생성한다. 이 생성기는 특징 배열과 인접 행렬을 미니 배치로 Keras 그래프 분류 모델에 제공한다. 노드 수의 차이는 특징 및 인접 행렬의 각 배치를 채우고 유효한 것과 패딩을 나타내는 부울 마스크를 제공한다."
   ]
  },
  {
   "cell_type": "code",
   "execution_count": 9,
   "metadata": {
    "id": "i34QgSA_P_sM"
   },
   "outputs": [],
   "source": [
    "from stellargraph.mapper import PaddedGraphGenerator\n",
    "generator = PaddedGraphGenerator(graphs=graphs)"
   ]
  },
  {
   "cell_type": "markdown",
   "metadata": {
    "id": "YepZYuk_NWWT"
   },
   "source": [
    "이제 실제로 모델을 생성할 준비가 됐다. GCN 레이어는 StellarGraph의 유틸리티 함수를 통해 생성되고 함께 쌓인다. 이 _backbone_ 은 1D Convolutional 레이어와 tf.Keras를 사용하여 완전 연결 레이어(Fully Connected Layer)에 연결된다."
   ]
  },
  {
   "cell_type": "code",
   "execution_count": 10,
   "metadata": {
    "id": "qF8DHIalQuIW"
   },
   "outputs": [
    {
     "name": "stdout",
     "output_type": "stream",
     "text": [
      "WARNING:tensorflow:From C:\\ProgramData\\Anaconda3\\envs\\Graph_ML\\lib\\site-packages\\tensorflow_core\\python\\ops\\resource_variable_ops.py:1630: calling BaseResourceVariable.__init__ (from tensorflow.python.ops.resource_variable_ops) with constraint is deprecated and will be removed in a future version.\n",
      "Instructions for updating:\n",
      "If using Keras pass *_constraint arguments to layers.\n",
      "WARNING:tensorflow:From C:\\ProgramData\\Anaconda3\\envs\\Graph_ML\\lib\\site-packages\\tensorflow_core\\python\\ops\\array_ops.py:1475: where (from tensorflow.python.ops.array_ops) is deprecated and will be removed in a future version.\n",
      "Instructions for updating:\n",
      "Use tf.where in 2.0, which has the same broadcast rule as np.where\n"
     ]
    }
   ],
   "source": [
    "from stellargraph.layer import DeepGraphCNN\n",
    "from tensorflow.keras import Model\n",
    "from tensorflow.keras.optimizers import Adam\n",
    "from tensorflow.keras.layers import Dense, Conv1D, MaxPool1D, Dropout, Flatten\n",
    "from tensorflow.keras.losses import binary_crossentropy\n",
    "import tensorflow as tf\n",
    "\n",
    "nrows = 35  # the number of rows for the output tensor\n",
    "layer_dims = [32, 32, 32, 1]\n",
    "\n",
    "dgcnn_model = DeepGraphCNN(\n",
    "    layer_sizes=layer_dims,\n",
    "    activations=[\"tanh\", \"tanh\", \"tanh\", \"tanh\"],\n",
    "    k=nrows,\n",
    "    bias=False,\n",
    "    generator=generator,\n",
    ")\n",
    "gnn_inp, gnn_out = dgcnn_model.in_out_tensors()\n",
    "\n",
    "\n",
    "x_out = Conv1D(filters=16, kernel_size=sum(layer_dims), strides=sum(layer_dims))(gnn_out)\n",
    "x_out = MaxPool1D(pool_size=2)(x_out)\n",
    "\n",
    "x_out = Conv1D(filters=32, kernel_size=5, strides=1)(x_out)\n",
    "\n",
    "x_out = Flatten()(x_out)\n",
    "\n",
    "x_out = Dense(units=128, activation=\"relu\")(x_out)\n",
    "x_out = Dropout(rate=0.5)(x_out)\n",
    "\n",
    "predictions = Dense(units=1, activation=\"sigmoid\")(x_out)"
   ]
  },
  {
   "cell_type": "markdown",
   "metadata": {
    "id": "ZOj3TjPIN4ev"
   },
   "source": [
    "모델을 컴파일 한다."
   ]
  },
  {
   "cell_type": "code",
   "execution_count": 11,
   "metadata": {
    "id": "clWqCmfLJjBF"
   },
   "outputs": [],
   "source": [
    "model = Model(inputs=gnn_inp, outputs=predictions)\n",
    "model.compile(optimizer=Adam(lr=0.0001), loss=binary_crossentropy, metrics=[\"acc\"])"
   ]
  },
  {
   "cell_type": "markdown",
   "metadata": {
    "id": "4ZnhaSMDN9ii"
   },
   "source": [
    "70%의 데이터를 학습에 사용하고 나머지는 테스트셋으로 사용한다."
   ]
  },
  {
   "cell_type": "code",
   "execution_count": 12,
   "metadata": {
    "id": "j3Hr6_FyJ5m4"
   },
   "outputs": [],
   "source": [
    "from sklearn import model_selection\n",
    "train_graphs, test_graphs = model_selection.train_test_split(\n",
    "    graph_labels, test_size=.3, stratify=labels,\n",
    ")"
   ]
  },
  {
   "cell_type": "code",
   "execution_count": 13,
   "metadata": {
    "id": "p9_2ybPqJ-3B"
   },
   "outputs": [],
   "source": [
    "gen = PaddedGraphGenerator(graphs=graphs)\n",
    "\n",
    "train_gen = gen.flow(\n",
    "    list(train_graphs.index - 1),\n",
    "    targets=train_graphs.values,\n",
    "    symmetric_normalization=False,\n",
    "    batch_size=50,\n",
    ")\n",
    "\n",
    "test_gen = gen.flow(\n",
    "    list(test_graphs.index - 1),\n",
    "    targets=test_graphs.values,\n",
    "    symmetric_normalization=False,\n",
    "    batch_size=1,\n",
    ")"
   ]
  },
  {
   "cell_type": "markdown",
   "metadata": {
    "id": "wCNr8_IsOIbQ"
   },
   "source": [
    "이제 학습을 시작한다."
   ]
  },
  {
   "cell_type": "code",
   "execution_count": 14,
   "metadata": {
    "colab": {
     "base_uri": "https://localhost:8080/"
    },
    "id": "h3b2BNJUKKas",
    "outputId": "e3c8b8e7-0beb-4479-9829-793f781e1a03"
   },
   "outputs": [
    {
     "name": "stdout",
     "output_type": "stream",
     "text": [
      "Epoch 1/100\n"
     ]
    },
    {
     "name": "stderr",
     "output_type": "stream",
     "text": [
      "C:\\ProgramData\\Anaconda3\\envs\\Graph_ML\\lib\\site-packages\\tensorflow_core\\python\\framework\\indexed_slices.py:424: UserWarning: Converting sparse IndexedSlices to a dense Tensor of unknown shape. This may consume a large amount of memory.\n",
      "  \"Converting sparse IndexedSlices to a dense Tensor of unknown shape. \"\n"
     ]
    },
    {
     "name": "stdout",
     "output_type": "stream",
     "text": [
      "15/16 [===========================>..] - ETA: 0s - loss: 0.6991 - acc: 0.5267Epoch 1/100\n",
      "334/16 [==================================================================================================================================================================================================================================================================================================================================================================================================================================================================================================================================================================================================================================================] - 1s 2ms/step - loss: 0.6382 - acc: 0.6467\n",
      "16/16 [==============================] - 2s 150ms/step - loss: 0.6948 - acc: 0.5379 - val_loss: 0.6533 - val_acc: 0.6467\n",
      "Epoch 2/100\n",
      "14/16 [=========================>....] - ETA: 0s - loss: 0.6389 - acc: 0.6495Epoch 1/100\n",
      "334/16 [==================================================================================================================================================================================================================================================================================================================================================================================================================================================================================================================================================================================================================================================] - 1s 2ms/step - loss: 0.5894 - acc: 0.6467\n",
      "16/16 [==============================] - 2s 103ms/step - loss: 0.6379 - acc: 0.6508 - val_loss: 0.6185 - val_acc: 0.6467\n",
      "Epoch 3/100\n",
      "13/16 [=======================>......] - ETA: 0s - loss: 0.6171 - acc: 0.6585Epoch 1/100\n",
      "334/16 [==================================================================================================================================================================================================================================================================================================================================================================================================================================================================================================================================================================================================================================================] - 1s 2ms/step - loss: 0.5871 - acc: 0.6796\n",
      "16/16 [==============================] - 2s 104ms/step - loss: 0.6102 - acc: 0.6611 - val_loss: 0.6061 - val_acc: 0.6796\n",
      "Epoch 4/100\n",
      "14/16 [=========================>....] - ETA: 0s - loss: 0.6021 - acc: 0.7000Epoch 1/100\n",
      "334/16 [==================================================================================================================================================================================================================================================================================================================================================================================================================================================================================================================================================================================================================================================] - 1s 2ms/step - loss: 0.6208 - acc: 0.7246\n",
      "16/16 [==============================] - 2s 103ms/step - loss: 0.5995 - acc: 0.6970 - val_loss: 0.5966 - val_acc: 0.7246\n",
      "Epoch 5/100\n",
      "15/16 [===========================>..] - ETA: 0s - loss: 0.5943 - acc: 0.7215Epoch 1/100\n",
      "334/16 [==================================================================================================================================================================================================================================================================================================================================================================================================================================================================================================================================================================================================================================================] - 1s 2ms/step - loss: 0.6477 - acc: 0.7305\n",
      "16/16 [==============================] - 2s 100ms/step - loss: 0.5984 - acc: 0.7150 - val_loss: 0.5889 - val_acc: 0.7305\n",
      "Epoch 6/100\n",
      "15/16 [===========================>..] - ETA: 0s - loss: 0.5917 - acc: 0.7284Epoch 1/100\n",
      "334/16 [==================================================================================================================================================================================================================================================================================================================================================================================================================================================================================================================================================================================================================================================] - 1s 2ms/step - loss: 0.6593 - acc: 0.7335\n",
      "16/16 [==============================] - 2s 104ms/step - loss: 0.5877 - acc: 0.7330 - val_loss: 0.5856 - val_acc: 0.7335\n",
      "Epoch 7/100\n",
      "15/16 [===========================>..] - ETA: 0s - loss: 0.5799 - acc: 0.7227Epoch 1/100\n",
      "334/16 [==================================================================================================================================================================================================================================================================================================================================================================================================================================================================================================================================================================================================================================================] - 1s 2ms/step - loss: 0.6800 - acc: 0.7275\n",
      "16/16 [==============================] - 2s 102ms/step - loss: 0.5814 - acc: 0.7202 - val_loss: 0.5814 - val_acc: 0.7275\n",
      "Epoch 8/100\n",
      "15/16 [===========================>..] - ETA: 0s - loss: 0.5797 - acc: 0.7160Epoch 1/100\n",
      "334/16 [==================================================================================================================================================================================================================================================================================================================================================================================================================================================================================================================================================================================================================================================] - 1s 2ms/step - loss: 0.7029 - acc: 0.7275\n",
      "16/16 [==============================] - 2s 99ms/step - loss: 0.5815 - acc: 0.7137 - val_loss: 0.5799 - val_acc: 0.7275\n",
      "Epoch 9/100\n",
      "14/16 [=========================>....] - ETA: 0s - loss: 0.5822 - acc: 0.6996Epoch 1/100\n",
      "334/16 [==================================================================================================================================================================================================================================================================================================================================================================================================================================================================================================================================================================================================================================================] - 1s 2ms/step - loss: 0.6924 - acc: 0.7305\n",
      "16/16 [==============================] - 2s 102ms/step - loss: 0.5727 - acc: 0.7086 - val_loss: 0.5776 - val_acc: 0.7305\n",
      "Epoch 10/100\n",
      "14/16 [=========================>....] - ETA: 0s - loss: 0.5832 - acc: 0.7128Epoch 1/100\n",
      "334/16 [==================================================================================================================================================================================================================================================================================================================================================================================================================================================================================================================================================================================================================================================] - 1s 2ms/step - loss: 0.6897 - acc: 0.7305\n",
      "16/16 [==============================] - 2s 102ms/step - loss: 0.5795 - acc: 0.7163 - val_loss: 0.5753 - val_acc: 0.7305\n",
      "Epoch 11/100\n",
      "15/16 [===========================>..] - ETA: 0s - loss: 0.5686 - acc: 0.7257Epoch 1/100\n",
      "334/16 [==================================================================================================================================================================================================================================================================================================================================================================================================================================================================================================================================================================================================================================================] - 1s 2ms/step - loss: 0.6851 - acc: 0.7246\n",
      "16/16 [==============================] - 2s 106ms/step - loss: 0.5721 - acc: 0.7240 - val_loss: 0.5733 - val_acc: 0.7246\n",
      "Epoch 12/100\n",
      "15/16 [===========================>..] - ETA: 0s - loss: 0.5699 - acc: 0.7106Epoch 1/100\n",
      "334/16 [==================================================================================================================================================================================================================================================================================================================================================================================================================================================================================================================================================================================================================================================] - 1s 2ms/step - loss: 0.6813 - acc: 0.7246\n",
      "16/16 [==============================] - 2s 102ms/step - loss: 0.5664 - acc: 0.7150 - val_loss: 0.5719 - val_acc: 0.7246\n",
      "Epoch 13/100\n",
      "15/16 [===========================>..] - ETA: 0s - loss: 0.5604 - acc: 0.7188Epoch 1/100\n",
      "334/16 [==================================================================================================================================================================================================================================================================================================================================================================================================================================================================================================================================================================================================================================================] - 1s 2ms/step - loss: 0.6621 - acc: 0.7305\n",
      "16/16 [==============================] - 2s 110ms/step - loss: 0.5629 - acc: 0.7163 - val_loss: 0.5692 - val_acc: 0.7305\n",
      "Epoch 14/100\n",
      "14/16 [=========================>....] - ETA: 0s - loss: 0.5644 - acc: 0.7231Epoch 1/100\n",
      "334/16 [==================================================================================================================================================================================================================================================================================================================================================================================================================================================================================================================================================================================================================================================] - 1s 2ms/step - loss: 0.6664 - acc: 0.7246\n",
      "16/16 [==============================] - 2s 105ms/step - loss: 0.5695 - acc: 0.7176 - val_loss: 0.5695 - val_acc: 0.7246\n",
      "Epoch 15/100\n",
      "14/16 [=========================>....] - ETA: 0s - loss: 0.5589 - acc: 0.7261Epoch 1/100\n",
      "334/16 [==================================================================================================================================================================================================================================================================================================================================================================================================================================================================================================================================================================================================================================================] - 1s 2ms/step - loss: 0.6616 - acc: 0.7275\n",
      "16/16 [==============================] - 2s 109ms/step - loss: 0.5576 - acc: 0.7304 - val_loss: 0.5680 - val_acc: 0.7275\n",
      "Epoch 16/100\n",
      "14/16 [=========================>....] - ETA: 0s - loss: 0.5561 - acc: 0.7300Epoch 1/100\n",
      "334/16 [==================================================================================================================================================================================================================================================================================================================================================================================================================================================================================================================================================================================================================================================] - 1s 2ms/step - loss: 0.6601 - acc: 0.7216\n",
      "16/16 [==============================] - 2s 115ms/step - loss: 0.5603 - acc: 0.7240 - val_loss: 0.5674 - val_acc: 0.7216\n",
      "Epoch 17/100\n",
      "13/16 [=======================>......] - ETA: 0s - loss: 0.5696 - acc: 0.7154Epoch 1/100\n",
      "334/16 [==================================================================================================================================================================================================================================================================================================================================================================================================================================================================================================================================================================================================================================================] - 1s 2ms/step - loss: 0.6582 - acc: 0.7186\n",
      "16/16 [==============================] - 2s 116ms/step - loss: 0.5658 - acc: 0.7253 - val_loss: 0.5684 - val_acc: 0.7186\n",
      "Epoch 18/100\n",
      "14/16 [=========================>....] - ETA: 0s - loss: 0.5648 - acc: 0.7216Epoch 1/100\n",
      "334/16 [==================================================================================================================================================================================================================================================================================================================================================================================================================================================================================================================================================================================================================================================] - 1s 2ms/step - loss: 0.6307 - acc: 0.7275\n",
      "16/16 [==============================] - 2s 105ms/step - loss: 0.5642 - acc: 0.7227 - val_loss: 0.5643 - val_acc: 0.7275\n",
      "Epoch 19/100\n",
      "14/16 [=========================>....] - ETA: 0s - loss: 0.5585 - acc: 0.7231Epoch 1/100\n",
      "334/16 [==================================================================================================================================================================================================================================================================================================================================================================================================================================================================================================================================================================================================================================================] - 1s 2ms/step - loss: 0.6043 - acc: 0.7335\n",
      "16/16 [==============================] - 2s 104ms/step - loss: 0.5570 - acc: 0.7266 - val_loss: 0.5621 - val_acc: 0.7335\n",
      "Epoch 20/100\n",
      "14/16 [=========================>....] - ETA: 0s - loss: 0.5501 - acc: 0.7214Epoch 1/100\n",
      "334/16 [==================================================================================================================================================================================================================================================================================================================================================================================================================================================================================================================================================================================================================================================] - 1s 2ms/step - loss: 0.6218 - acc: 0.7275\n",
      "16/16 [==============================] - 2s 106ms/step - loss: 0.5511 - acc: 0.7214 - val_loss: 0.5616 - val_acc: 0.7275\n",
      "Epoch 21/100\n",
      "14/16 [=========================>....] - ETA: 0s - loss: 0.5514 - acc: 0.7300Epoch 1/100\n",
      "334/16 [==================================================================================================================================================================================================================================================================================================================================================================================================================================================================================================================================================================================================================================================] - 1s 2ms/step - loss: 0.5973 - acc: 0.7365\n",
      "16/16 [==============================] - 2s 106ms/step - loss: 0.5541 - acc: 0.7253 - val_loss: 0.5606 - val_acc: 0.7365\n",
      "Epoch 22/100\n",
      "15/16 [===========================>..] - ETA: 0s - loss: 0.5460 - acc: 0.7284Epoch 1/100\n",
      "334/16 [==================================================================================================================================================================================================================================================================================================================================================================================================================================================================================================================================================================================================================================================] - 1s 2ms/step - loss: 0.6086 - acc: 0.7305\n",
      "16/16 [==============================] - 2s 108ms/step - loss: 0.5423 - acc: 0.7330 - val_loss: 0.5619 - val_acc: 0.7305\n",
      "Epoch 23/100\n",
      "14/16 [=========================>....] - ETA: 0s - loss: 0.5463 - acc: 0.7364Epoch 1/100\n",
      "334/16 [==================================================================================================================================================================================================================================================================================================================================================================================================================================================================================================================================================================================================================================================] - 1s 2ms/step - loss: 0.5994 - acc: 0.7335\n",
      "16/16 [==============================] - 2s 108ms/step - loss: 0.5469 - acc: 0.7356 - val_loss: 0.5601 - val_acc: 0.7335\n",
      "Epoch 24/100\n",
      "15/16 [===========================>..] - ETA: 0s - loss: 0.5401 - acc: 0.7353Epoch 1/100\n",
      "334/16 [==================================================================================================================================================================================================================================================================================================================================================================================================================================================================================================================================================================================================================================================] - 1s 2ms/step - loss: 0.5806 - acc: 0.7305\n",
      "16/16 [==============================] - 2s 105ms/step - loss: 0.5400 - acc: 0.7343 - val_loss: 0.5586 - val_acc: 0.7305\n",
      "Epoch 25/100\n",
      "14/16 [=========================>....] - ETA: 0s - loss: 0.5412 - acc: 0.7290Epoch 1/100\n",
      "334/16 [==================================================================================================================================================================================================================================================================================================================================================================================================================================================================================================================================================================================================================================================] - 1s 2ms/step - loss: 0.5747 - acc: 0.7335\n",
      "16/16 [==============================] - 2s 112ms/step - loss: 0.5393 - acc: 0.7356 - val_loss: 0.5587 - val_acc: 0.7335\n",
      "Epoch 26/100\n",
      "15/16 [===========================>..] - ETA: 0s - loss: 0.5472 - acc: 0.7311Epoch 1/100\n",
      "334/16 [==================================================================================================================================================================================================================================================================================================================================================================================================================================================================================================================================================================================================================================================] - 1s 2ms/step - loss: 0.5668 - acc: 0.7335\n",
      "16/16 [==============================] - 2s 107ms/step - loss: 0.5441 - acc: 0.7356 - val_loss: 0.5567 - val_acc: 0.7335\n",
      "Epoch 27/100\n",
      "14/16 [=========================>....] - ETA: 0s - loss: 0.5499 - acc: 0.7187Epoch 1/100\n",
      "334/16 [==================================================================================================================================================================================================================================================================================================================================================================================================================================================================================================================================================================================================================================================] - 1s 2ms/step - loss: 0.5461 - acc: 0.7275\n",
      "16/16 [==============================] - 2s 102ms/step - loss: 0.5387 - acc: 0.7266 - val_loss: 0.5565 - val_acc: 0.7275\n",
      "Epoch 28/100\n",
      "15/16 [===========================>..] - ETA: 0s - loss: 0.5416 - acc: 0.7366Epoch 1/100\n",
      "334/16 [==================================================================================================================================================================================================================================================================================================================================================================================================================================================================================================================================================================================================================================================] - 1s 2ms/step - loss: 0.5550 - acc: 0.7365\n",
      "16/16 [==============================] - 2s 102ms/step - loss: 0.5420 - acc: 0.7368 - val_loss: 0.5582 - val_acc: 0.7365\n",
      "Epoch 29/100\n",
      "14/16 [=========================>....] - ETA: 0s - loss: 0.5312 - acc: 0.7349Epoch 1/100\n",
      "334/16 [==================================================================================================================================================================================================================================================================================================================================================================================================================================================================================================================================================================================================================================================] - 1s 2ms/step - loss: 0.5399 - acc: 0.7275\n",
      "16/16 [==============================] - 2s 97ms/step - loss: 0.5311 - acc: 0.7381 - val_loss: 0.5567 - val_acc: 0.7275\n",
      "Epoch 30/100\n",
      "15/16 [===========================>..] - ETA: 0s - loss: 0.5392 - acc: 0.7503Epoch 1/100\n",
      "334/16 [==================================================================================================================================================================================================================================================================================================================================================================================================================================================================================================================================================================================================================================================] - 1s 2ms/step - loss: 0.5477 - acc: 0.7335\n",
      "16/16 [==============================] - 2s 102ms/step - loss: 0.5402 - acc: 0.7497 - val_loss: 0.5573 - val_acc: 0.7335\n",
      "Epoch 31/100\n",
      "15/16 [===========================>..] - ETA: 0s - loss: 0.5302 - acc: 0.7407Epoch 1/100\n",
      "334/16 [==================================================================================================================================================================================================================================================================================================================================================================================================================================================================================================================================================================================================================================================] - 1s 2ms/step - loss: 0.5181 - acc: 0.7216\n",
      "16/16 [==============================] - 2s 102ms/step - loss: 0.5325 - acc: 0.7381 - val_loss: 0.5547 - val_acc: 0.7216\n",
      "Epoch 32/100\n",
      "15/16 [===========================>..] - ETA: 0s - loss: 0.5308 - acc: 0.7545Epoch 1/100\n",
      "334/16 [==================================================================================================================================================================================================================================================================================================================================================================================================================================================================================================================================================================================================================================================] - 1s 2ms/step - loss: 0.5362 - acc: 0.7455\n",
      "16/16 [==============================] - 2s 99ms/step - loss: 0.5373 - acc: 0.7484 - val_loss: 0.5572 - val_acc: 0.7455\n",
      "Epoch 33/100\n",
      "15/16 [===========================>..] - ETA: 0s - loss: 0.5339 - acc: 0.7435Epoch 1/100\n",
      "334/16 [==================================================================================================================================================================================================================================================================================================================================================================================================================================================================================================================================================================================================================================================] - 1s 2ms/step - loss: 0.5006 - acc: 0.7275\n",
      "16/16 [==============================] - 2s 99ms/step - loss: 0.5327 - acc: 0.7433 - val_loss: 0.5535 - val_acc: 0.7275\n",
      "Epoch 34/100\n",
      "14/16 [=========================>....] - ETA: 0s - loss: 0.5384 - acc: 0.7320Epoch 1/100\n",
      "334/16 [==================================================================================================================================================================================================================================================================================================================================================================================================================================================================================================================================================================================================================================================] - 1s 2ms/step - loss: 0.4960 - acc: 0.7305\n",
      "16/16 [==============================] - 2s 101ms/step - loss: 0.5338 - acc: 0.7381 - val_loss: 0.5552 - val_acc: 0.7305\n",
      "Epoch 35/100\n",
      "14/16 [=========================>....] - ETA: 0s - loss: 0.5430 - acc: 0.7364Epoch 1/100\n",
      "334/16 [==================================================================================================================================================================================================================================================================================================================================================================================================================================================================================================================================================================================================================================================] - 1s 2ms/step - loss: 0.5322 - acc: 0.7395\n",
      "16/16 [==============================] - 2s 105ms/step - loss: 0.5394 - acc: 0.7407 - val_loss: 0.5610 - val_acc: 0.7395\n",
      "Epoch 36/100\n",
      "15/16 [===========================>..] - ETA: 0s - loss: 0.5356 - acc: 0.7380Epoch 1/100\n",
      "334/16 [==================================================================================================================================================================================================================================================================================================================================================================================================================================================================================================================================================================================================================================================] - 1s 2ms/step - loss: 0.4999 - acc: 0.7335\n",
      "16/16 [==============================] - 2s 109ms/step - loss: 0.5295 - acc: 0.7458 - val_loss: 0.5541 - val_acc: 0.7335\n",
      "Epoch 37/100\n",
      "14/16 [=========================>....] - ETA: 0s - loss: 0.5316 - acc: 0.7378Epoch 1/100\n",
      "334/16 [==================================================================================================================================================================================================================================================================================================================================================================================================================================================================================================================================================================================================================================================] - 1s 2ms/step - loss: 0.5060 - acc: 0.7485\n",
      "16/16 [==============================] - 2s 99ms/step - loss: 0.5290 - acc: 0.7433 - val_loss: 0.5565 - val_acc: 0.7485\n",
      "Epoch 38/100\n",
      "14/16 [=========================>....] - ETA: 0s - loss: 0.5282 - acc: 0.7393Epoch 1/100\n",
      "334/16 [==================================================================================================================================================================================================================================================================================================================================================================================================================================================================================================================================================================================================================================================] - 1s 2ms/step - loss: 0.4954 - acc: 0.7395\n",
      "16/16 [==============================] - 2s 100ms/step - loss: 0.5280 - acc: 0.7433 - val_loss: 0.5554 - val_acc: 0.7395\n",
      "Epoch 39/100\n",
      "15/16 [===========================>..] - ETA: 0s - loss: 0.5315 - acc: 0.7449Epoch 1/100\n",
      "334/16 [==================================================================================================================================================================================================================================================================================================================================================================================================================================================================================================================================================================================================================================================] - 1s 2ms/step - loss: 0.5001 - acc: 0.7455\n",
      "16/16 [==============================] - 2s 98ms/step - loss: 0.5288 - acc: 0.7484 - val_loss: 0.5552 - val_acc: 0.7455\n",
      "Epoch 40/100\n",
      "14/16 [=========================>....] - ETA: 0s - loss: 0.5252 - acc: 0.7378Epoch 1/100\n",
      "334/16 [==================================================================================================================================================================================================================================================================================================================================================================================================================================================================================================================================================================================================================================================] - 1s 2ms/step - loss: 0.4894 - acc: 0.7485\n",
      "16/16 [==============================] - 2s 98ms/step - loss: 0.5217 - acc: 0.7368 - val_loss: 0.5547 - val_acc: 0.7485\n",
      "Epoch 41/100\n",
      "15/16 [===========================>..] - ETA: 0s - loss: 0.5360 - acc: 0.7353Epoch 1/100\n",
      "334/16 [==================================================================================================================================================================================================================================================================================================================================================================================================================================================================================================================================================================================================================================================] - 1s 2ms/step - loss: 0.4953 - acc: 0.7395\n",
      "16/16 [==============================] - 2s 97ms/step - loss: 0.5297 - acc: 0.7433 - val_loss: 0.5567 - val_acc: 0.7395\n",
      "Epoch 42/100\n",
      "15/16 [===========================>..] - ETA: 0s - loss: 0.5316 - acc: 0.7462Epoch 1/100\n",
      "334/16 [==================================================================================================================================================================================================================================================================================================================================================================================================================================================================================================================================================================================================================================================] - 1s 2ms/step - loss: 0.4973 - acc: 0.7395\n",
      "16/16 [==============================] - 2s 100ms/step - loss: 0.5257 - acc: 0.7497 - val_loss: 0.5579 - val_acc: 0.7395\n",
      "Epoch 43/100\n",
      "15/16 [===========================>..] - ETA: 0s - loss: 0.5252 - acc: 0.7547Epoch 1/100\n",
      "334/16 [==================================================================================================================================================================================================================================================================================================================================================================================================================================================================================================================================================================================================================================================] - 1s 2ms/step - loss: 0.4757 - acc: 0.7365\n",
      "16/16 [==============================] - 2s 107ms/step - loss: 0.5261 - acc: 0.7535 - val_loss: 0.5547 - val_acc: 0.7365\n",
      "Epoch 44/100\n",
      "13/16 [=======================>......] - ETA: 0s - loss: 0.5239 - acc: 0.7393Epoch 1/100\n",
      "334/16 [==================================================================================================================================================================================================================================================================================================================================================================================================================================================================================================================================================================================================================================================] - 1s 2ms/step - loss: 0.4956 - acc: 0.7395\n",
      "16/16 [==============================] - 2s 95ms/step - loss: 0.5257 - acc: 0.7356 - val_loss: 0.5567 - val_acc: 0.7395\n",
      "Epoch 45/100\n",
      "15/16 [===========================>..] - ETA: 0s - loss: 0.5329 - acc: 0.7421Epoch 1/100\n",
      "334/16 [==================================================================================================================================================================================================================================================================================================================================================================================================================================================================================================================================================================================================================================================] - 1s 2ms/step - loss: 0.4908 - acc: 0.7425\n",
      "16/16 [==============================] - 2s 101ms/step - loss: 0.5301 - acc: 0.7394 - val_loss: 0.5562 - val_acc: 0.7425\n",
      "Epoch 46/100\n",
      "14/16 [=========================>....] - ETA: 0s - loss: 0.5271 - acc: 0.7471Epoch 1/100\n",
      "334/16 [==================================================================================================================================================================================================================================================================================================================================================================================================================================================================================================================================================================================================================================================] - 1s 2ms/step - loss: 0.4642 - acc: 0.7246\n",
      "16/16 [==============================] - 2s 100ms/step - loss: 0.5223 - acc: 0.7458 - val_loss: 0.5559 - val_acc: 0.7246\n",
      "Epoch 47/100\n",
      "14/16 [=========================>....] - ETA: 0s - loss: 0.5239 - acc: 0.7555Epoch 1/100\n",
      "334/16 [==================================================================================================================================================================================================================================================================================================================================================================================================================================================================================================================================================================================================================================================] - 1s 2ms/step - loss: 0.4782 - acc: 0.7485\n",
      "16/16 [==============================] - 2s 101ms/step - loss: 0.5279 - acc: 0.7497 - val_loss: 0.5543 - val_acc: 0.7485\n",
      "Epoch 48/100\n",
      "15/16 [===========================>..] - ETA: 0s - loss: 0.5292 - acc: 0.7407Epoch 1/100\n",
      "334/16 [==================================================================================================================================================================================================================================================================================================================================================================================================================================================================================================================================================================================================================================================] - 1s 2ms/step - loss: 0.4706 - acc: 0.7305\n",
      "16/16 [==============================] - 2s 100ms/step - loss: 0.5263 - acc: 0.7420 - val_loss: 0.5549 - val_acc: 0.7305\n",
      "Epoch 49/100\n",
      "15/16 [===========================>..] - ETA: 0s - loss: 0.5223 - acc: 0.7449Epoch 1/100\n",
      "334/16 [==================================================================================================================================================================================================================================================================================================================================================================================================================================================================================================================================================================================================================================================] - 1s 2ms/step - loss: 0.4807 - acc: 0.7515\n",
      "16/16 [==============================] - 2s 98ms/step - loss: 0.5209 - acc: 0.7433 - val_loss: 0.5552 - val_acc: 0.7515\n",
      "Epoch 50/100\n",
      "14/16 [=========================>....] - ETA: 0s - loss: 0.5160 - acc: 0.7585Epoch 1/100\n",
      "334/16 [==================================================================================================================================================================================================================================================================================================================================================================================================================================================================================================================================================================================================================================================] - 1s 2ms/step - loss: 0.4814 - acc: 0.7545\n",
      "16/16 [==============================] - 2s 101ms/step - loss: 0.5265 - acc: 0.7484 - val_loss: 0.5552 - val_acc: 0.7545\n",
      "Epoch 51/100\n",
      "14/16 [=========================>....] - ETA: 0s - loss: 0.5171 - acc: 0.7467Epoch 1/100\n",
      "334/16 [==================================================================================================================================================================================================================================================================================================================================================================================================================================================================================================================================================================================================================================================] - 1s 2ms/step - loss: 0.4817 - acc: 0.7515\n",
      "16/16 [==============================] - 2s 103ms/step - loss: 0.5195 - acc: 0.7497 - val_loss: 0.5561 - val_acc: 0.7515\n",
      "Epoch 52/100\n",
      "15/16 [===========================>..] - ETA: 0s - loss: 0.5258 - acc: 0.7435Epoch 1/100\n",
      "334/16 [==================================================================================================================================================================================================================================================================================================================================================================================================================================================================================================================================================================================================================================================] - 1s 2ms/step - loss: 0.4953 - acc: 0.7515\n",
      "16/16 [==============================] - 2s 100ms/step - loss: 0.5257 - acc: 0.7420 - val_loss: 0.5566 - val_acc: 0.7515\n",
      "Epoch 53/100\n",
      "14/16 [=========================>....] - ETA: 0s - loss: 0.5276 - acc: 0.7414Epoch 1/100\n",
      "334/16 [==================================================================================================================================================================================================================================================================================================================================================================================================================================================================================================================================================================================================================================================] - 1s 2ms/step - loss: 0.4702 - acc: 0.7305\n",
      "16/16 [==============================] - 2s 97ms/step - loss: 0.5236 - acc: 0.7445 - val_loss: 0.5561 - val_acc: 0.7305\n",
      "Epoch 54/100\n",
      "15/16 [===========================>..] - ETA: 0s - loss: 0.5274 - acc: 0.7476Epoch 1/100\n",
      "334/16 [==================================================================================================================================================================================================================================================================================================================================================================================================================================================================================================================================================================================================================================================] - 1s 2ms/step - loss: 0.5011 - acc: 0.7455\n",
      "16/16 [==============================] - 2s 97ms/step - loss: 0.5208 - acc: 0.7548 - val_loss: 0.5609 - val_acc: 0.7455\n",
      "Epoch 55/100\n",
      "14/16 [=========================>....] - ETA: 0s - loss: 0.5228 - acc: 0.7541Epoch 1/100\n",
      "334/16 [==================================================================================================================================================================================================================================================================================================================================================================================================================================================================================================================================================================================================================================================] - 1s 2ms/step - loss: 0.4749 - acc: 0.7425\n",
      "16/16 [==============================] - 2s 98ms/step - loss: 0.5197 - acc: 0.7574 - val_loss: 0.5560 - val_acc: 0.7425\n",
      "Epoch 56/100\n",
      "15/16 [===========================>..] - ETA: 0s - loss: 0.5213 - acc: 0.7558Epoch 1/100\n",
      "334/16 [==================================================================================================================================================================================================================================================================================================================================================================================================================================================================================================================================================================================================================================================] - 1s 2ms/step - loss: 0.4874 - acc: 0.7485\n",
      "16/16 [==============================] - 2s 102ms/step - loss: 0.5198 - acc: 0.7561 - val_loss: 0.5587 - val_acc: 0.7485\n",
      "Epoch 57/100\n",
      "14/16 [=========================>....] - ETA: 0s - loss: 0.5142 - acc: 0.7599Epoch 1/100\n",
      "334/16 [==================================================================================================================================================================================================================================================================================================================================================================================================================================================================================================================================================================================================================================================] - 1s 2ms/step - loss: 0.4794 - acc: 0.7485\n",
      "16/16 [==============================] - 2s 98ms/step - loss: 0.5205 - acc: 0.7535 - val_loss: 0.5562 - val_acc: 0.7485\n",
      "Epoch 58/100\n",
      "13/16 [=======================>......] - ETA: 0s - loss: 0.5195 - acc: 0.7488Epoch 1/100\n",
      "334/16 [==================================================================================================================================================================================================================================================================================================================================================================================================================================================================================================================================================================================================================================================] - 1s 2ms/step - loss: 0.4762 - acc: 0.7425\n",
      "16/16 [==============================] - 2s 99ms/step - loss: 0.5242 - acc: 0.7471 - val_loss: 0.5557 - val_acc: 0.7425\n",
      "Epoch 59/100\n",
      "14/16 [=========================>....] - ETA: 0s - loss: 0.5254 - acc: 0.7496Epoch 1/100\n",
      "334/16 [==================================================================================================================================================================================================================================================================================================================================================================================================================================================================================================================================================================================================================================================] - 1s 2ms/step - loss: 0.4818 - acc: 0.7425\n",
      "16/16 [==============================] - 2s 99ms/step - loss: 0.5141 - acc: 0.7587 - val_loss: 0.5561 - val_acc: 0.7425\n",
      "Epoch 60/100\n",
      "14/16 [=========================>....] - ETA: 0s - loss: 0.5214 - acc: 0.7496Epoch 1/100\n",
      "334/16 [==================================================================================================================================================================================================================================================================================================================================================================================================================================================================================================================================================================================================================================================] - 1s 2ms/step - loss: 0.5030 - acc: 0.7515\n",
      "16/16 [==============================] - 2s 100ms/step - loss: 0.5226 - acc: 0.7497 - val_loss: 0.5652 - val_acc: 0.7515\n",
      "Epoch 61/100\n",
      "15/16 [===========================>..] - ETA: 0s - loss: 0.5167 - acc: 0.7558Epoch 1/100\n",
      "334/16 [==================================================================================================================================================================================================================================================================================================================================================================================================================================================================================================================================================================================================================================================] - 1s 2ms/step - loss: 0.4837 - acc: 0.7485\n",
      "16/16 [==============================] - 2s 99ms/step - loss: 0.5248 - acc: 0.7510 - val_loss: 0.5573 - val_acc: 0.7485\n",
      "Epoch 62/100\n",
      "15/16 [===========================>..] - ETA: 0s - loss: 0.5174 - acc: 0.7449Epoch 1/100\n",
      "334/16 [==================================================================================================================================================================================================================================================================================================================================================================================================================================================================================================================================================================================================================================================] - 1s 2ms/step - loss: 0.4813 - acc: 0.7455\n",
      "16/16 [==============================] - 2s 99ms/step - loss: 0.5203 - acc: 0.7484 - val_loss: 0.5571 - val_acc: 0.7455\n",
      "Epoch 63/100\n",
      "14/16 [=========================>....] - ETA: 0s - loss: 0.5190 - acc: 0.7658Epoch 1/100\n",
      "334/16 [==================================================================================================================================================================================================================================================================================================================================================================================================================================================================================================================================================================================================================================================] - 1s 2ms/step - loss: 0.4642 - acc: 0.7186\n",
      "16/16 [==============================] - 2s 98ms/step - loss: 0.5228 - acc: 0.7587 - val_loss: 0.5582 - val_acc: 0.7186\n",
      "Epoch 64/100\n",
      "15/16 [===========================>..] - ETA: 0s - loss: 0.5165 - acc: 0.7503Epoch 1/100\n",
      "334/16 [==================================================================================================================================================================================================================================================================================================================================================================================================================================================================================================================================================================================================================================================] - 1s 2ms/step - loss: 0.4867 - acc: 0.7485\n",
      "16/16 [==============================] - 2s 98ms/step - loss: 0.5182 - acc: 0.7522 - val_loss: 0.5598 - val_acc: 0.7485\n",
      "Epoch 65/100\n",
      "15/16 [===========================>..] - ETA: 0s - loss: 0.5163 - acc: 0.7627Epoch 1/100\n",
      "334/16 [==================================================================================================================================================================================================================================================================================================================================================================================================================================================================================================================================================================================================================================================] - 1s 2ms/step - loss: 0.4681 - acc: 0.7305\n",
      "16/16 [==============================] - 2s 99ms/step - loss: 0.5184 - acc: 0.7612 - val_loss: 0.5574 - val_acc: 0.7305\n",
      "Epoch 66/100\n",
      "15/16 [===========================>..] - ETA: 0s - loss: 0.5036 - acc: 0.7572Epoch 1/100\n",
      "334/16 [==================================================================================================================================================================================================================================================================================================================================================================================================================================================================================================================================================================================================================================================] - 1s 2ms/step - loss: 0.4793 - acc: 0.7455\n",
      "16/16 [==============================] - 2s 100ms/step - loss: 0.5130 - acc: 0.7510 - val_loss: 0.5586 - val_acc: 0.7455\n",
      "Epoch 67/100\n",
      "14/16 [=========================>....] - ETA: 0s - loss: 0.5181 - acc: 0.7334Epoch 1/100\n",
      "334/16 [==================================================================================================================================================================================================================================================================================================================================================================================================================================================================================================================================================================================================================================================] - 1s 2ms/step - loss: 0.4792 - acc: 0.7455\n",
      "16/16 [==============================] - 2s 97ms/step - loss: 0.5136 - acc: 0.7394 - val_loss: 0.5580 - val_acc: 0.7455\n",
      "Epoch 68/100\n",
      "15/16 [===========================>..] - ETA: 0s - loss: 0.5141 - acc: 0.7517Epoch 1/100\n",
      "334/16 [==================================================================================================================================================================================================================================================================================================================================================================================================================================================================================================================================================================================================================================================] - 1s 2ms/step - loss: 0.4730 - acc: 0.7485\n",
      "16/16 [==============================] - 2s 99ms/step - loss: 0.5133 - acc: 0.7510 - val_loss: 0.5558 - val_acc: 0.7485\n",
      "Epoch 69/100\n",
      "14/16 [=========================>....] - ETA: 0s - loss: 0.5162 - acc: 0.7482Epoch 1/100\n",
      "334/16 [==================================================================================================================================================================================================================================================================================================================================================================================================================================================================================================================================================================================================================================================] - 1s 2ms/step - loss: 0.4787 - acc: 0.7455\n",
      "16/16 [==============================] - 2s 99ms/step - loss: 0.5103 - acc: 0.7510 - val_loss: 0.5575 - val_acc: 0.7455\n",
      "Epoch 70/100\n",
      "13/16 [=======================>......] - ETA: 0s - loss: 0.5126 - acc: 0.7585Epoch 1/100\n",
      "334/16 [==================================================================================================================================================================================================================================================================================================================================================================================================================================================================================================================================================================================================================================================] - 1s 2ms/step - loss: 0.4757 - acc: 0.7425\n",
      "16/16 [==============================] - 2s 99ms/step - loss: 0.5128 - acc: 0.7574 - val_loss: 0.5566 - val_acc: 0.7425\n",
      "Epoch 71/100\n",
      "15/16 [===========================>..] - ETA: 0s - loss: 0.5164 - acc: 0.7531Epoch 1/100\n",
      "334/16 [==================================================================================================================================================================================================================================================================================================================================================================================================================================================================================================================================================================================================================================================] - 1s 2ms/step - loss: 0.4807 - acc: 0.7455\n",
      "16/16 [==============================] - 2s 97ms/step - loss: 0.5158 - acc: 0.7548 - val_loss: 0.5585 - val_acc: 0.7455\n",
      "Epoch 72/100\n",
      "15/16 [===========================>..] - ETA: 0s - loss: 0.5055 - acc: 0.7599Epoch 1/100\n",
      "334/16 [==================================================================================================================================================================================================================================================================================================================================================================================================================================================================================================================================================================================================================================================] - 1s 2ms/step - loss: 0.4640 - acc: 0.7305\n",
      "16/16 [==============================] - 2s 100ms/step - loss: 0.5129 - acc: 0.7548 - val_loss: 0.5584 - val_acc: 0.7305\n",
      "Epoch 73/100\n",
      "14/16 [=========================>....] - ETA: 0s - loss: 0.5140 - acc: 0.7570Epoch 1/100\n",
      "334/16 [==================================================================================================================================================================================================================================================================================================================================================================================================================================================================================================================================================================================================================================================] - 1s 2ms/step - loss: 0.4801 - acc: 0.7455\n",
      "16/16 [==============================] - 2s 98ms/step - loss: 0.5193 - acc: 0.7522 - val_loss: 0.5585 - val_acc: 0.7455\n",
      "Epoch 74/100\n",
      "15/16 [===========================>..] - ETA: 0s - loss: 0.5104 - acc: 0.7407Epoch 1/100\n",
      "334/16 [==================================================================================================================================================================================================================================================================================================================================================================================================================================================================================================================================================================================================================================================] - 1s 2ms/step - loss: 0.4755 - acc: 0.7395\n",
      "16/16 [==============================] - 2s 95ms/step - loss: 0.5136 - acc: 0.7381 - val_loss: 0.5567 - val_acc: 0.7395\n",
      "Epoch 75/100\n",
      "14/16 [=========================>....] - ETA: 0s - loss: 0.5159 - acc: 0.7644Epoch 1/100\n",
      "334/16 [==================================================================================================================================================================================================================================================================================================================================================================================================================================================================================================================================================================================================================================================] - 1s 2ms/step - loss: 0.4638 - acc: 0.7186\n",
      "16/16 [==============================] - 2s 99ms/step - loss: 0.5172 - acc: 0.7612 - val_loss: 0.5582 - val_acc: 0.7186\n",
      "Epoch 76/100\n",
      "15/16 [===========================>..] - ETA: 0s - loss: 0.5244 - acc: 0.7462Epoch 1/100\n",
      "334/16 [==================================================================================================================================================================================================================================================================================================================================================================================================================================================================================================================================================================================================================================================] - 1s 2ms/step - loss: 0.4919 - acc: 0.7485\n",
      "16/16 [==============================] - 2s 98ms/step - loss: 0.5173 - acc: 0.7522 - val_loss: 0.5611 - val_acc: 0.7485\n",
      "Epoch 77/100\n",
      "15/16 [===========================>..] - ETA: 0s - loss: 0.5112 - acc: 0.7545Epoch 1/100\n",
      "334/16 [==================================================================================================================================================================================================================================================================================================================================================================================================================================================================================================================================================================================================================================================] - 1s 2ms/step - loss: 0.4698 - acc: 0.7246\n",
      "16/16 [==============================] - 2s 98ms/step - loss: 0.5041 - acc: 0.7625 - val_loss: 0.5572 - val_acc: 0.7246\n",
      "Epoch 78/100\n",
      "14/16 [=========================>....] - ETA: 0s - loss: 0.5120 - acc: 0.7541Epoch 1/100\n",
      "334/16 [==================================================================================================================================================================================================================================================================================================================================================================================================================================================================================================================================================================================================================================================] - 1s 2ms/step - loss: 0.4798 - acc: 0.7485\n",
      "16/16 [==============================] - 2s 99ms/step - loss: 0.5125 - acc: 0.7535 - val_loss: 0.5574 - val_acc: 0.7485\n",
      "Epoch 79/100\n",
      "14/16 [=========================>....] - ETA: 0s - loss: 0.5088 - acc: 0.7467Epoch 1/100\n",
      "334/16 [==================================================================================================================================================================================================================================================================================================================================================================================================================================================================================================================================================================================================================================================] - 1s 2ms/step - loss: 0.4841 - acc: 0.7365\n",
      "16/16 [==============================] - 2s 100ms/step - loss: 0.5144 - acc: 0.7420 - val_loss: 0.5599 - val_acc: 0.7365\n",
      "Epoch 80/100\n",
      "14/16 [=========================>....] - ETA: 0s - loss: 0.5096 - acc: 0.7541Epoch 1/100\n",
      "334/16 [==================================================================================================================================================================================================================================================================================================================================================================================================================================================================================================================================================================================================================================================] - 1s 2ms/step - loss: 0.4785 - acc: 0.7485\n",
      "16/16 [==============================] - 2s 98ms/step - loss: 0.5111 - acc: 0.7510 - val_loss: 0.5566 - val_acc: 0.7485\n",
      "Epoch 81/100\n",
      "14/16 [=========================>....] - ETA: 0s - loss: 0.5097 - acc: 0.7599Epoch 1/100\n",
      "334/16 [==================================================================================================================================================================================================================================================================================================================================================================================================================================================================================================================================================================================================================================================] - 1s 2ms/step - loss: 0.4748 - acc: 0.7365\n",
      "16/16 [==============================] - 2s 99ms/step - loss: 0.5159 - acc: 0.7522 - val_loss: 0.5561 - val_acc: 0.7365\n",
      "Epoch 82/100\n",
      "15/16 [===========================>..] - ETA: 0s - loss: 0.5119 - acc: 0.7462Epoch 1/100\n",
      "334/16 [==================================================================================================================================================================================================================================================================================================================================================================================================================================================================================================================================================================================================================================================] - 1s 2ms/step - loss: 0.4785 - acc: 0.7485\n",
      "16/16 [==============================] - 2s 97ms/step - loss: 0.5114 - acc: 0.7458 - val_loss: 0.5566 - val_acc: 0.7485\n",
      "Epoch 83/100\n",
      "14/16 [=========================>....] - ETA: 0s - loss: 0.5207 - acc: 0.7526Epoch 1/100\n",
      "334/16 [==================================================================================================================================================================================================================================================================================================================================================================================================================================================================================================================================================================================================================================================] - 1s 2ms/step - loss: 0.4752 - acc: 0.7485\n",
      "16/16 [==============================] - 2s 99ms/step - loss: 0.5136 - acc: 0.7548 - val_loss: 0.5568 - val_acc: 0.7485\n",
      "Epoch 84/100\n",
      "15/16 [===========================>..] - ETA: 0s - loss: 0.5058 - acc: 0.7599Epoch 1/100\n",
      "334/16 [==================================================================================================================================================================================================================================================================================================================================================================================================================================================================================================================================================================================================================================================] - 1s 2ms/step - loss: 0.4746 - acc: 0.7485\n",
      "16/16 [==============================] - 2s 104ms/step - loss: 0.5057 - acc: 0.7612 - val_loss: 0.5571 - val_acc: 0.7485\n",
      "Epoch 85/100\n",
      "15/16 [===========================>..] - ETA: 0s - loss: 0.5115 - acc: 0.7449Epoch 1/100\n",
      "334/16 [==================================================================================================================================================================================================================================================================================================================================================================================================================================================================================================================================================================================================================================================] - 1s 2ms/step - loss: 0.4814 - acc: 0.7455\n",
      "16/16 [==============================] - 2s 98ms/step - loss: 0.5110 - acc: 0.7445 - val_loss: 0.5576 - val_acc: 0.7455\n",
      "Epoch 86/100\n",
      "15/16 [===========================>..] - ETA: 0s - loss: 0.5159 - acc: 0.7558Epoch 1/100\n",
      "334/16 [==================================================================================================================================================================================================================================================================================================================================================================================================================================================================================================================================================================================================================================================] - 1s 2ms/step - loss: 0.4793 - acc: 0.7395\n",
      "16/16 [==============================] - 2s 100ms/step - loss: 0.5095 - acc: 0.7599 - val_loss: 0.5557 - val_acc: 0.7395\n",
      "Epoch 87/100\n",
      "15/16 [===========================>..] - ETA: 0s - loss: 0.5101 - acc: 0.7613Epoch 1/100\n",
      "334/16 [==================================================================================================================================================================================================================================================================================================================================================================================================================================================================================================================================================================================================================================================] - 1s 2ms/step - loss: 0.4848 - acc: 0.7455\n",
      "16/16 [==============================] - 2s 100ms/step - loss: 0.5044 - acc: 0.7625 - val_loss: 0.5576 - val_acc: 0.7455\n",
      "Epoch 88/100\n",
      "15/16 [===========================>..] - ETA: 0s - loss: 0.5117 - acc: 0.7517Epoch 1/100\n",
      "334/16 [==================================================================================================================================================================================================================================================================================================================================================================================================================================================================================================================================================================================================================================================] - 1s 2ms/step - loss: 0.4813 - acc: 0.7455\n",
      "16/16 [==============================] - 2s 101ms/step - loss: 0.5145 - acc: 0.7510 - val_loss: 0.5565 - val_acc: 0.7455\n",
      "Epoch 89/100\n",
      "14/16 [=========================>....] - ETA: 0s - loss: 0.5101 - acc: 0.7644Epoch 1/100\n",
      "334/16 [==================================================================================================================================================================================================================================================================================================================================================================================================================================================================================================================================================================================================================================================] - 1s 2ms/step - loss: 0.4784 - acc: 0.7425\n",
      "16/16 [==============================] - 2s 97ms/step - loss: 0.5132 - acc: 0.7599 - val_loss: 0.5555 - val_acc: 0.7425\n",
      "Epoch 90/100\n",
      "15/16 [===========================>..] - ETA: 0s - loss: 0.5169 - acc: 0.7476Epoch 1/100\n",
      "334/16 [==================================================================================================================================================================================================================================================================================================================================================================================================================================================================================================================================================================================================================================================] - 1s 2ms/step - loss: 0.4881 - acc: 0.7485\n",
      "16/16 [==============================] - 2s 109ms/step - loss: 0.5141 - acc: 0.7510 - val_loss: 0.5568 - val_acc: 0.7485\n",
      "Epoch 91/100\n",
      "14/16 [=========================>....] - ETA: 0s - loss: 0.5130 - acc: 0.7658Epoch 1/100\n",
      "334/16 [==================================================================================================================================================================================================================================================================================================================================================================================================================================================================================================================================================================================================================================================] - 1s 2ms/step - loss: 0.4884 - acc: 0.7485\n",
      "16/16 [==============================] - 2s 99ms/step - loss: 0.5086 - acc: 0.7651 - val_loss: 0.5584 - val_acc: 0.7485\n",
      "Epoch 92/100\n",
      "14/16 [=========================>....] - ETA: 0s - loss: 0.5144 - acc: 0.7555Epoch 1/100\n",
      "334/16 [==================================================================================================================================================================================================================================================================================================================================================================================================================================================================================================================================================================================================================================================] - 1s 2ms/step - loss: 0.4835 - acc: 0.7455\n",
      "16/16 [==============================] - 2s 107ms/step - loss: 0.5092 - acc: 0.7587 - val_loss: 0.5567 - val_acc: 0.7455\n",
      "Epoch 93/100\n",
      "15/16 [===========================>..] - ETA: 0s - loss: 0.5074 - acc: 0.7503Epoch 1/100\n",
      "334/16 [==================================================================================================================================================================================================================================================================================================================================================================================================================================================================================================================================================================================================================================================] - 1s 2ms/step - loss: 0.4874 - acc: 0.7485\n",
      "16/16 [==============================] - 2s 102ms/step - loss: 0.5070 - acc: 0.7458 - val_loss: 0.5585 - val_acc: 0.7485\n",
      "Epoch 94/100\n",
      "15/16 [===========================>..] - ETA: 0s - loss: 0.4954 - acc: 0.7558Epoch 1/100\n",
      "334/16 [==================================================================================================================================================================================================================================================================================================================================================================================================================================================================================================================================================================================================================================================] - 1s 2ms/step - loss: 0.4774 - acc: 0.7365\n",
      "16/16 [==============================] - 2s 100ms/step - loss: 0.4973 - acc: 0.7561 - val_loss: 0.5575 - val_acc: 0.7365\n",
      "Epoch 95/100\n",
      "14/16 [=========================>....] - ETA: 0s - loss: 0.5103 - acc: 0.7511Epoch 1/100\n",
      "334/16 [==================================================================================================================================================================================================================================================================================================================================================================================================================================================================================================================================================================================================================================================] - 1s 2ms/step - loss: 0.4837 - acc: 0.7455\n",
      "16/16 [==============================] - 2s 103ms/step - loss: 0.5067 - acc: 0.7561 - val_loss: 0.5581 - val_acc: 0.7455\n",
      "Epoch 96/100\n",
      "15/16 [===========================>..] - ETA: 0s - loss: 0.5072 - acc: 0.7490Epoch 1/100\n",
      "334/16 [==================================================================================================================================================================================================================================================================================================================================================================================================================================================================================================================================================================================================================================================] - 1s 2ms/step - loss: 0.4842 - acc: 0.7485\n",
      "16/16 [==============================] - 2s 105ms/step - loss: 0.5087 - acc: 0.7522 - val_loss: 0.5584 - val_acc: 0.7485\n",
      "Epoch 97/100\n",
      "14/16 [=========================>....] - ETA: 0s - loss: 0.4987 - acc: 0.7629Epoch 1/100\n",
      "334/16 [==================================================================================================================================================================================================================================================================================================================================================================================================================================================================================================================================================================================================================================================] - 1s 2ms/step - loss: 0.4888 - acc: 0.7395\n",
      "16/16 [==============================] - 2s 102ms/step - loss: 0.5085 - acc: 0.7548 - val_loss: 0.5589 - val_acc: 0.7395\n",
      "Epoch 98/100\n",
      "14/16 [=========================>....] - ETA: 0s - loss: 0.5010 - acc: 0.7658Epoch 1/100\n",
      "334/16 [==================================================================================================================================================================================================================================================================================================================================================================================================================================================================================================================================================================================================================================================] - 1s 2ms/step - loss: 0.4763 - acc: 0.7216\n",
      "16/16 [==============================] - 2s 104ms/step - loss: 0.4976 - acc: 0.7664 - val_loss: 0.5577 - val_acc: 0.7216\n",
      "Epoch 99/100\n",
      "15/16 [===========================>..] - ETA: 0s - loss: 0.5095 - acc: 0.7572Epoch 1/100\n",
      "334/16 [==================================================================================================================================================================================================================================================================================================================================================================================================================================================================================================================================================================================================================================================] - 1s 2ms/step - loss: 0.4920 - acc: 0.7485\n",
      "16/16 [==============================] - 2s 103ms/step - loss: 0.5070 - acc: 0.7535 - val_loss: 0.5570 - val_acc: 0.7485\n",
      "Epoch 100/100\n",
      "14/16 [=========================>....] - ETA: 0s - loss: 0.5087 - acc: 0.7570Epoch 1/100\n",
      "334/16 [==================================================================================================================================================================================================================================================================================================================================================================================================================================================================================================================================================================================================================================================] - 1s 2ms/step - loss: 0.4865 - acc: 0.7455\n",
      "16/16 [==============================] - 2s 96ms/step - loss: 0.4992 - acc: 0.7651 - val_loss: 0.5561 - val_acc: 0.7455\n"
     ]
    }
   ],
   "source": [
    "epochs = 100\n",
    "history = model.fit(\n",
    "    train_gen, epochs=epochs, verbose=1, validation_data=test_gen, shuffle=True,\n",
    ")"
   ]
  },
  {
   "cell_type": "code",
   "execution_count": 15,
   "metadata": {
    "id": "gdPBykJ4KPrV"
   },
   "outputs": [],
   "source": [
    "# https://stellargraph.readthedocs.io/en/stable/demos/graph-classification/index.html"
   ]
  },
  {
   "cell_type": "markdown",
   "metadata": {
    "id": "T1lM0v05_zJe"
   },
   "source": [
    "## GraphSAGE를 이용한 지도 노드 표현 학습"
   ]
  },
  {
   "cell_type": "code",
   "execution_count": 16,
   "metadata": {
    "colab": {
     "base_uri": "https://localhost:8080/",
     "height": 51
    },
    "id": "gERK1Zen_xL7",
    "outputId": "5959207e-3139-4262-fdbf-502d255bc826"
   },
   "outputs": [
    {
     "data": {
      "text/html": [
       "The Cora dataset consists of 2708 scientific publications classified into one of seven classes. The citation network consists of 5429 links. Each publication in the dataset is described by a 0/1-valued word vector indicating the absence/presence of the corresponding word from the dictionary. The dictionary consists of 1433 unique words."
      ],
      "text/plain": [
       "<IPython.core.display.HTML object>"
      ]
     },
     "metadata": {},
     "output_type": "display_data"
    }
   ],
   "source": [
    "from stellargraph import datasets\n",
    "from IPython.display import display, HTML\n",
    "\n",
    "dataset = datasets.Cora()\n",
    "display(HTML(dataset.description))\n",
    "G, nodes = dataset.load()"
   ]
  },
  {
   "cell_type": "markdown",
   "metadata": {},
   "source": [
    "Cora 데이터셋은 7개 클래스 중 하나로 분류된 2708개의 과학 출판물로 구성된다. 인용 네트워크는 5429개의 간선으로 구성되어 있다. 데이터 셋의 각 출판물은 사전에서 해당 단어의 부재/존재를 나타내는 0/1 값 단어 벡터로 설명된다. 사전은 1433개의 고유한 단어로 구성되어 있다."
   ]
  },
  {
   "cell_type": "markdown",
   "metadata": {
    "id": "xrkhfxtenQ4i"
   },
   "source": [
    "학습(훈련)과 테스트셋으로 나누기"
   ]
  },
  {
   "cell_type": "code",
   "execution_count": 17,
   "metadata": {
    "id": "RZsS_u7v_5vc"
   },
   "outputs": [],
   "source": [
    "from sklearn.model_selection import train_test_split\n",
    "train_nodes, test_nodes = train_test_split(\n",
    "    nodes, train_size=0.1, test_size=None, stratify=nodes\n",
    ")"
   ]
  },
  {
   "cell_type": "markdown",
   "metadata": {
    "id": "mm4-Me5GnVce"
   },
   "source": [
    "범주 분류를 수행하기 때문에 각 범주 라벨을 원 핫 인코딩으로 나타내는 것이 유용하다."
   ]
  },
  {
   "cell_type": "code",
   "execution_count": 18,
   "metadata": {
    "id": "dP-sXgekAFOY"
   },
   "outputs": [],
   "source": [
    "from sklearn import preprocessing, feature_extraction, model_selection\n",
    "label_encoding = preprocessing.LabelBinarizer()\n",
    "train_labels = label_encoding.fit_transform(train_nodes)\n",
    "test_labels = label_encoding.transform(test_nodes)"
   ]
  },
  {
   "cell_type": "markdown",
   "metadata": {
    "id": "KJSpM4cnnfUN"
   },
   "source": [
    "이제 mdoel을 생성한다. 두 개의 GraphSAGE 레이어와 분류를 위한 softmax 활성화가 있는 Dense 레이어로 구성된다."
   ]
  },
  {
   "cell_type": "code",
   "execution_count": 19,
   "metadata": {
    "id": "BP5G49akANxy"
   },
   "outputs": [],
   "source": [
    "from stellargraph.mapper import GraphSAGENodeGenerator\n",
    "batchsize = 50\n",
    "n_samples = [10, 5, 7]\n",
    "generator = GraphSAGENodeGenerator(G, batchsize, n_samples)"
   ]
  },
  {
   "cell_type": "code",
   "execution_count": 20,
   "metadata": {
    "id": "qkgF2VvWAlct"
   },
   "outputs": [],
   "source": [
    "from stellargraph.layer import GraphSAGE\n",
    "from tensorflow.keras.layers import Dense\n",
    "\n",
    "graphsage_model = GraphSAGE(\n",
    "    layer_sizes=[32, 32, 16], generator=generator, bias=True, dropout=0.6,\n",
    ")"
   ]
  },
  {
   "cell_type": "code",
   "execution_count": 21,
   "metadata": {
    "id": "S_g_yOhjAovl"
   },
   "outputs": [
    {
     "name": "stdout",
     "output_type": "stream",
     "text": [
      "WARNING:tensorflow:Large dropout rate: 0.6 (>0.5). In TensorFlow 2.x, dropout() uses dropout rate instead of keep_prob. Please ensure that this is intended.\n",
      "WARNING:tensorflow:Large dropout rate: 0.6 (>0.5). In TensorFlow 2.x, dropout() uses dropout rate instead of keep_prob. Please ensure that this is intended.\n",
      "WARNING:tensorflow:Large dropout rate: 0.6 (>0.5). In TensorFlow 2.x, dropout() uses dropout rate instead of keep_prob. Please ensure that this is intended.\n",
      "WARNING:tensorflow:Large dropout rate: 0.6 (>0.5). In TensorFlow 2.x, dropout() uses dropout rate instead of keep_prob. Please ensure that this is intended.\n",
      "WARNING:tensorflow:Large dropout rate: 0.6 (>0.5). In TensorFlow 2.x, dropout() uses dropout rate instead of keep_prob. Please ensure that this is intended.\n"
     ]
    }
   ],
   "source": [
    "gnn_inp, gnn_out = graphsage_model.in_out_tensors()\n",
    "outputs = Dense(units=train_labels.shape[1], activation=\"softmax\")(gnn_out)"
   ]
  },
  {
   "cell_type": "code",
   "execution_count": 22,
   "metadata": {
    "id": "HeMlOuDnA9B_"
   },
   "outputs": [],
   "source": [
    "from tensorflow.keras.losses import categorical_crossentropy\n",
    "from tensorflow.keras.models import Model\n",
    "from tensorflow.keras.optimizers import Adam\n",
    "\n",
    "model = Model(inputs=gnn_inp, outputs=outputs)\n",
    "model.compile(optimizer=Adam(lr=0.003), loss=categorical_crossentropy, metrics=[\"acc\"],)"
   ]
  },
  {
   "cell_type": "markdown",
   "metadata": {
    "id": "MqF4EWFbnwU9"
   },
   "source": [
    "모델에 훈련과 테스트 셋을 공급하기 위해 생성기의 flow 메소드를 사용할 것이다."
   ]
  },
  {
   "cell_type": "code",
   "execution_count": 23,
   "metadata": {
    "id": "x-5xmzRqBDCX"
   },
   "outputs": [],
   "source": [
    "train_gen = generator.flow(train_nodes.index, train_labels, shuffle=True)\n",
    "test_gen = generator.flow(test_nodes.index, test_labels)"
   ]
  },
  {
   "cell_type": "markdown",
   "metadata": {
    "id": "952-5V6Xn45o"
   },
   "source": [
    "이제 학습을 시작한다!"
   ]
  },
  {
   "cell_type": "code",
   "execution_count": 24,
   "metadata": {
    "id": "sS3vnQ_HBZxK"
   },
   "outputs": [
    {
     "name": "stdout",
     "output_type": "stream",
     "text": [
      "Epoch 1/20\n",
      "Epoch 1/20\n",
      "49/6 - 6s - loss: 1.8100 - acc: 0.3060\n",
      "6/6 - 8s - loss: 1.9074 - acc: 0.1963 - val_loss: 1.8126 - val_acc: 0.3060\n",
      "Epoch 2/20\n",
      "Epoch 1/20\n",
      "49/6 - 6s - loss: 1.7884 - acc: 0.3072\n",
      "6/6 - 7s - loss: 1.8419 - acc: 0.2852 - val_loss: 1.7864 - val_acc: 0.3072\n",
      "Epoch 3/20\n",
      "Epoch 1/20\n",
      "49/6 - 6s - loss: 1.7452 - acc: 0.3023\n",
      "6/6 - 7s - loss: 1.7951 - acc: 0.3222 - val_loss: 1.7419 - val_acc: 0.3023\n",
      "Epoch 4/20\n",
      "Epoch 1/20\n",
      "49/6 - 6s - loss: 1.6752 - acc: 0.3027\n",
      "6/6 - 7s - loss: 1.7446 - acc: 0.3370 - val_loss: 1.6747 - val_acc: 0.3027\n",
      "Epoch 5/20\n",
      "Epoch 1/20\n",
      "49/6 - 6s - loss: 1.6016 - acc: 0.3203\n",
      "6/6 - 7s - loss: 1.6923 - acc: 0.3519 - val_loss: 1.5992 - val_acc: 0.3203\n",
      "Epoch 6/20\n",
      "Epoch 1/20\n",
      "49/6 - 6s - loss: 1.5288 - acc: 0.4504\n",
      "6/6 - 7s - loss: 1.6356 - acc: 0.3963 - val_loss: 1.5221 - val_acc: 0.4504\n",
      "Epoch 7/20\n",
      "Epoch 1/20\n",
      "49/6 - 6s - loss: 1.4705 - acc: 0.5369\n",
      "6/6 - 8s - loss: 1.5830 - acc: 0.4704 - val_loss: 1.4651 - val_acc: 0.5369\n",
      "Epoch 8/20\n",
      "Epoch 1/20\n",
      "49/6 - 6s - loss: 1.4463 - acc: 0.5730\n",
      "6/6 - 7s - loss: 1.5079 - acc: 0.5519 - val_loss: 1.4317 - val_acc: 0.5730\n",
      "Epoch 9/20\n",
      "Epoch 1/20\n",
      "49/6 - 6s - loss: 1.3824 - acc: 0.6132\n",
      "6/6 - 7s - loss: 1.4521 - acc: 0.6111 - val_loss: 1.3642 - val_acc: 0.6132\n",
      "Epoch 10/20\n",
      "Epoch 1/20\n",
      "49/6 - 6s - loss: 1.3312 - acc: 0.6370\n",
      "6/6 - 7s - loss: 1.3797 - acc: 0.6370 - val_loss: 1.3076 - val_acc: 0.6370\n",
      "Epoch 11/20\n",
      "Epoch 1/20\n",
      "49/6 - 6s - loss: 1.2961 - acc: 0.6710\n",
      "6/6 - 7s - loss: 1.3498 - acc: 0.6481 - val_loss: 1.2679 - val_acc: 0.6710\n",
      "Epoch 12/20\n",
      "Epoch 1/20\n",
      "49/6 - 6s - loss: 1.2792 - acc: 0.6936\n",
      "6/6 - 7s - loss: 1.2740 - acc: 0.7037 - val_loss: 1.2396 - val_acc: 0.6936\n",
      "Epoch 13/20\n",
      "Epoch 1/20\n",
      "49/6 - 6s - loss: 1.2232 - acc: 0.7125\n",
      "6/6 - 7s - loss: 1.2229 - acc: 0.7222 - val_loss: 1.1821 - val_acc: 0.7125\n",
      "Epoch 14/20\n",
      "Epoch 1/20\n",
      "49/6 - 6s - loss: 1.1516 - acc: 0.7416\n",
      "6/6 - 7s - loss: 1.1763 - acc: 0.7593 - val_loss: 1.1335 - val_acc: 0.7416\n",
      "Epoch 15/20\n",
      "Epoch 1/20\n",
      "49/6 - 6s - loss: 1.1220 - acc: 0.7531\n",
      "6/6 - 7s - loss: 1.1147 - acc: 0.8185 - val_loss: 1.0984 - val_acc: 0.7531\n",
      "Epoch 16/20\n",
      "Epoch 1/20\n",
      "49/6 - 6s - loss: 1.1217 - acc: 0.7609\n",
      "6/6 - 7s - loss: 1.0673 - acc: 0.8148 - val_loss: 1.0680 - val_acc: 0.7609\n",
      "Epoch 17/20\n",
      "Epoch 1/20\n",
      "49/6 - 6s - loss: 1.0901 - acc: 0.7551\n",
      "6/6 - 7s - loss: 1.0216 - acc: 0.8259 - val_loss: 1.0449 - val_acc: 0.7551\n",
      "Epoch 18/20\n",
      "Epoch 1/20\n",
      "49/6 - 6s - loss: 1.0826 - acc: 0.7625\n",
      "6/6 - 7s - loss: 1.0104 - acc: 0.8074 - val_loss: 1.0168 - val_acc: 0.7625\n",
      "Epoch 19/20\n",
      "Epoch 1/20\n",
      "49/6 - 6s - loss: 1.0603 - acc: 0.7646\n",
      "6/6 - 7s - loss: 0.9581 - acc: 0.8370 - val_loss: 0.9946 - val_acc: 0.7646\n",
      "Epoch 20/20\n",
      "Epoch 1/20\n",
      "49/6 - 6s - loss: 1.0375 - acc: 0.7818\n",
      "6/6 - 7s - loss: 0.9218 - acc: 0.8519 - val_loss: 0.9651 - val_acc: 0.7818\n"
     ]
    }
   ],
   "source": [
    "history = model.fit(train_gen, epochs=20, validation_data=test_gen, verbose=2, shuffle=False)"
   ]
  }
 ],
 "metadata": {
  "colab": {
   "collapsed_sections": [],
   "name": "Supervised_GraphML.ipynb",
   "provenance": []
  },
  "kernelspec": {
   "display_name": "Graph_ML",
   "language": "python",
   "name": "graph_ml"
  },
  "language_info": {
   "codemirror_mode": {
    "name": "ipython",
    "version": 3
   },
   "file_extension": ".py",
   "mimetype": "text/x-python",
   "name": "python",
   "nbconvert_exporter": "python",
   "pygments_lexer": "ipython3",
   "version": "3.7.13"
  }
 },
 "nbformat": 4,
 "nbformat_minor": 1
}

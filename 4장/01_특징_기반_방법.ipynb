{
 "cells": [
  {
   "cell_type": "markdown",
   "metadata": {
    "id": "K8HAOWyDgPiH"
   },
   "source": [
    "# 특징 기반 방법"
   ]
  },
  {
   "cell_type": "markdown",
   "metadata": {
    "id": "v6w1KA97gXao"
   },
   "source": [
    "아래의 코드로 그래프 기반 지도 머신 러닝을 해결하기 위한 매우 순진하지만 강력한 접근 방식을 탐구한다.\n",
    "여기서는 사람이 만든 특징 추출의 고전적인 기계 학습 접근 방식에 의존한다.\n",
    "\n",
    "1장에서 로컬 및 글로벌 그래프 속성을 그래프에서 추출하는 방법을 배웠다.\n",
    "이러한 속성들은 그래프 분류에 유용할 수 있는 중요한 정보를 제공한다."
   ]
  },
  {
   "cell_type": "markdown",
   "metadata": {
    "id": "yWL_AuChPcYS"
   },
   "source": [
    "이번 데모에서는 StellarGraph에 내장된 PROTEINS 데이터 셋을 활용할 것이다."
   ]
  },
  {
   "cell_type": "code",
   "execution_count": 7,
   "metadata": {
    "colab": {
     "base_uri": "https://localhost:8080/",
     "height": 51
    },
    "executionInfo": {
     "elapsed": 12513,
     "status": "ok",
     "timestamp": 1611482476990,
     "user": {
      "displayName": "Aldo Marzullo",
      "photoUrl": "https://lh3.googleusercontent.com/a-/AOh14GjBD_mZewcZ8LCqkD20Nku4DR5OCGFqYkxawoUjgg=s64",
      "userId": "17245895923239449231"
     },
     "user_tz": -60
    },
    "id": "gS5B47T2gWll",
    "outputId": "5b39bfb4-cc26-4a43-a20b-1cc657584e4b"
   },
   "outputs": [
    {
     "data": {
      "text/html": [
       "Each graph represents a protein and graph labels represent whether they are are enzymes or non-enzymes. The dataset includes 1113 graphs with 39 nodes and 73 edges on average for each graph. Graph nodes have 4 attributes (including a one-hot encoding of their label), and each graph is labelled as belonging to 1 of 2 classes."
      ],
      "text/plain": [
       "<IPython.core.display.HTML object>"
      ]
     },
     "metadata": {},
     "output_type": "display_data"
    }
   ],
   "source": [
    "from stellargraph import datasets\n",
    "from IPython.display import display, HTML\n",
    "\n",
    "dataset = datasets.PROTEINS()\n",
    "display(HTML(dataset.description))\n",
    "graphs, graph_labels = dataset.load()"
   ]
  },
  {
   "cell_type": "markdown",
   "metadata": {},
   "source": [
    "각 그래프는 단백질을 나타내고 그래프 라벨은 효소인지 비효소인지를 나타낸다. 이 데이터셋에는 각 그래프에 대해 평균적으로 39개의 노드와 73개의 간선이 있는 1113개의 그래프가 있다. 그래프 노드에는 4개의 속성(라벨의 원-핫 인코딩 포함)이 있으며 각 그래프는 2개의 클래스 중 1개에 속하는 것으로 라벨이 지정된다."
   ]
  },
  {
   "cell_type": "markdown",
   "metadata": {
    "id": "YDlUMUUFLrjh"
   },
   "source": [
    "그래프 측정 지표를 계산하기 위한 한 가지 방법은 각 그래프의 인접 행렬 표현을 찾는 것이다."
   ]
  },
  {
   "cell_type": "code",
   "execution_count": 8,
   "metadata": {
    "id": "qsOw9zFwrxDe"
   },
   "outputs": [],
   "source": [
    "# StellarGraph 포맷을 numpy 인접 행렬 형태로 변환\n",
    "adjs = [graph.to_adjacency_matrix().A for graph in graphs]\n",
    "# 라벨을 Pandas.Series에서 Numpy 행렬로 변환\n",
    "labels = graph_labels.to_numpy(dtype=int)"
   ]
  },
  {
   "cell_type": "code",
   "execution_count": 9,
   "metadata": {
    "id": "6S5M5mL2t-ik"
   },
   "outputs": [],
   "source": [
    "import numpy as np\n",
    "import networkx as nx\n",
    "\n",
    "metrics = []\n",
    "for adj in adjs:\n",
    "  G = nx.from_numpy_matrix(adj)\n",
    "  # 기본 속성\n",
    "  num_edges = G.number_of_edges()\n",
    "  # 클러스터링 측정\n",
    "  cc = nx.average_clustering(G)\n",
    "  # 효율성 측정\n",
    "  eff = nx.global_efficiency(G)\n",
    "\n",
    "  metrics.append([num_edges, cc, eff])\n",
    "\n"
   ]
  },
  {
   "cell_type": "markdown",
   "metadata": {
    "id": "1_a5CiZKL4vW"
   },
   "source": [
    "이제 scikit-learn 유틸리티를 활용하여 훈련과 테스트셋을 생성할 수 있다. 실험에서는 데이터셋의 70%를 훈련 셋으로 사용하고 나머지를 테스트셋으로 사용한다."
   ]
  },
  {
   "cell_type": "code",
   "execution_count": 10,
   "metadata": {
    "id": "NRrNPqOxu7eY"
   },
   "outputs": [],
   "source": [
    "from sklearn.model_selection import train_test_split\n",
    "X_train, X_test, y_train, y_test = train_test_split(metrics, labels, test_size=0.3, random_state=42)"
   ]
  },
  {
   "cell_type": "markdown",
   "metadata": {
    "id": "TMIF1weiMO0F"
   },
   "source": [
    "많은 기계 학습 워크플로에서 일반적으로 수행되는 것처럼 평균 및 단위 표준 편차가 0이 되도록 특징을 전처리한다."
   ]
  },
  {
   "cell_type": "code",
   "execution_count": 11,
   "metadata": {
    "id": "9qUjNhPru6ni"
   },
   "outputs": [],
   "source": [
    "from sklearn.preprocessing import StandardScaler\n",
    "\n",
    "scaler = StandardScaler()\n",
    "scaler.fit(X_train)\n",
    "\n",
    "X_train_scaled = scaler.transform(X_train)\n",
    "X_test_scaled = scaler.transform(X_test)"
   ]
  },
  {
   "cell_type": "markdown",
   "metadata": {
    "id": "QqaZzejRMdmu"
   },
   "source": [
    "이제 학습을 시작한다. 예제에는 서포트 벡터 머신(SVM)을 선택했다."
   ]
  },
  {
   "cell_type": "code",
   "execution_count": 12,
   "metadata": {
    "colab": {
     "base_uri": "https://localhost:8080/"
    },
    "executionInfo": {
     "elapsed": 613,
     "status": "ok",
     "timestamp": 1610884464690,
     "user": {
      "displayName": "Aldo Marzullo",
      "photoUrl": "https://lh3.googleusercontent.com/a-/AOh14GjBD_mZewcZ8LCqkD20Nku4DR5OCGFqYkxawoUjgg=s64",
      "userId": "17245895923239449231"
     },
     "user_tz": -60
    },
    "id": "L3A6_fh0OV9x",
    "outputId": "6297d8fe-3cc9-435b-e8fe-b50425aaee24"
   },
   "outputs": [
    {
     "name": "stdout",
     "output_type": "stream",
     "text": [
      "정확도 0.7455089820359282\n",
      "정밀도 0.7709251101321586\n",
      "재현율 0.8413461538461539\n",
      "F1-score 0.8045977011494253\n"
     ]
    }
   ],
   "source": [
    "from sklearn import svm\n",
    "from sklearn.metrics import accuracy_score, precision_score, recall_score, f1_score\n",
    "\n",
    "clf = svm.SVC()\n",
    "clf.fit(X_train_scaled, y_train)\n",
    "\n",
    "y_pred = clf.predict(X_test_scaled)\n",
    "\n",
    "print('정확도', accuracy_score(y_test,y_pred))\n",
    "print('정밀도', precision_score(y_test,y_pred))\n",
    "print('재현율', recall_score(y_test,y_pred))\n",
    "print('F1-score', f1_score(y_test,y_pred))"
   ]
  }
 ],
 "metadata": {
  "colab": {
   "authorship_tag": "ABX9TyPz5JRYvXqH50rX95tddtHr",
   "collapsed_sections": [],
   "name": "Supervised_GraphML.ipynb",
   "provenance": []
  },
  "kernelspec": {
   "display_name": "Graph_ML",
   "language": "python",
   "name": "graph_ml"
  },
  "language_info": {
   "codemirror_mode": {
    "name": "ipython",
    "version": 3
   },
   "file_extension": ".py",
   "mimetype": "text/x-python",
   "name": "python",
   "nbconvert_exporter": "python",
   "pygments_lexer": "ipython3",
   "version": "3.7.13"
  }
 },
 "nbformat": 4,
 "nbformat_minor": 1
}
